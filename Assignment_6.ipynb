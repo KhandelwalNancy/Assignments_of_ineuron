{
 "cells": [
  {
   "cell_type": "markdown",
   "id": "55869c18",
   "metadata": {},
   "source": [
    "## Assignment 6"
   ]
  },
  {
   "cell_type": "code",
   "execution_count": null,
   "id": "da0ebad4",
   "metadata": {},
   "outputs": [],
   "source": [
    "1.What are Escape characters ? and how do you use them ?\n",
    "\n",
    "Sol.Escape characters represent characters in string values that would otherwise be difficult or impossible to type into code.\n",
    "We can use the backslash character to escape a single character or symbol.\n"
   ]
  },
  {
   "cell_type": "code",
   "execution_count": null,
   "id": "92cfc401",
   "metadata": {},
   "outputs": [],
   "source": [
    "2.What do the escape characters n and t stand for ?\n",
    "\n",
    "Sol.\\n is a newline, \\t is a tab.\n"
   ]
  },
  {
   "cell_type": "code",
   "execution_count": 1,
   "id": "1447e462",
   "metadata": {},
   "outputs": [
    {
     "name": "stdout",
     "output_type": "stream",
     "text": [
      "Hi\n",
      "Everyone!\n",
      "Hi\tAll\n"
     ]
    }
   ],
   "source": [
    "say = \"Hi\\nEveryone!\"\n",
    "print(say)\n",
    "\n",
    "greet = \"Hi\\tAll!!\"\n",
    "print(greet)"
   ]
  },
  {
   "cell_type": "code",
   "execution_count": null,
   "id": "51e01747",
   "metadata": {},
   "outputs": [],
   "source": [
    "3.What is the way to include backslash character in a string?\n",
    "\n",
    "Sol.The \\\\ escape character will represent the backslash character in a string."
   ]
  },
  {
   "cell_type": "code",
   "execution_count": null,
   "id": "33425d8d",
   "metadata": {},
   "outputs": [],
   "source": [
    "4. The string \"Howl's Moving Castle\" is a correct value. Why isn't the single quote character in the word Howl's\n",
    "not escaped a problem ?\n",
    "\n",
    "Sol. The string \"Howl's Moving Castle\" escaped the problem because it is wrapped inside double quotes. If its wrapped inside \n",
    "single quotes then we have to use escape character \\' to show single quote in the final output.\n"
   ]
  },
  {
   "cell_type": "code",
   "execution_count": 2,
   "id": "42e1f1b1",
   "metadata": {},
   "outputs": [
    {
     "data": {
      "text/plain": [
       "\"Howl's Moving Castle\""
      ]
     },
     "execution_count": 2,
     "metadata": {},
     "output_type": "execute_result"
    }
   ],
   "source": [
    "'Howl\\'s Moving Castle'"
   ]
  },
  {
   "cell_type": "code",
   "execution_count": null,
   "id": "0be60df5",
   "metadata": {},
   "outputs": [],
   "source": [
    "5.How do you write a string of newlines if you don't want to use the n character?\n",
    "\n",
    "Sol.Multiline string with triple inverted commas allows you to use newlines in string without the \\n escape character."
   ]
  },
  {
   "cell_type": "code",
   "execution_count": 3,
   "id": "0942352b",
   "metadata": {},
   "outputs": [
    {
     "name": "stdout",
     "output_type": "stream",
     "text": [
      "I am living in Bengaluru\n",
      "to find a suitable job\n"
     ]
    }
   ],
   "source": [
    "a = '''I am living in Bengaluru\n",
    "to find a suitable job'''\n",
    "print(a)"
   ]
  },
  {
   "cell_type": "code",
   "execution_count": null,
   "id": "0ff821f3",
   "metadata": {},
   "outputs": [],
   "source": [
    "6.What are the values of the given expressions ?\n",
    "'Hello, world!'[1]\n",
    "'Hello, world!'[0:5]\n",
    "'Hello, world!'[:5]\n",
    "'Hello, world!'[3:]"
   ]
  },
  {
   "cell_type": "code",
   "execution_count": 5,
   "id": "a139b192",
   "metadata": {},
   "outputs": [
    {
     "name": "stdout",
     "output_type": "stream",
     "text": [
      "e\n",
      "Hello\n",
      "Hello\n",
      "lo, world!\n"
     ]
    }
   ],
   "source": [
    "#Sol.\n",
    "print('Hello, world!'[1]) #prints only value at index 1\n",
    "print('Hello, world!'[0:5]) #prints values from index 0 to 5 excluding 5\n",
    "print('Hello, world!'[:5])#prints values from index 0 to 5 excluding 5 \n",
    "print('Hello, world!'[3:])  #prints values from index 3 to last index"
   ]
  },
  {
   "cell_type": "code",
   "execution_count": null,
   "id": "8e69afa2",
   "metadata": {},
   "outputs": [],
   "source": [
    "7.What are the values of the following expressions ?\n",
    "'Hello'.upper()\n",
    "'Hello'.upper().isupper()\n",
    "'Hello'.upper().lower()"
   ]
  },
  {
   "cell_type": "code",
   "execution_count": 6,
   "id": "fe7fd28d",
   "metadata": {},
   "outputs": [
    {
     "name": "stdout",
     "output_type": "stream",
     "text": [
      "HELLO\n",
      "True\n",
      "hello\n"
     ]
    }
   ],
   "source": [
    "print('Hello'.upper())  #converts string in upper case\n",
    "print('Hello'.upper().isupper()) #gives boolean value\n",
    "print('Hello'.upper().lower())  #converts string in lower case"
   ]
  },
  {
   "cell_type": "code",
   "execution_count": null,
   "id": "d98d954b",
   "metadata": {},
   "outputs": [],
   "source": [
    "8.What are the values of the following expressions ?\n",
    "'Remember, remember, the fifith of July.'.split()\n",
    "-'.join('There can only one'.split())"
   ]
  },
  {
   "cell_type": "code",
   "execution_count": 10,
   "id": "5ab745eb",
   "metadata": {},
   "outputs": [
    {
     "name": "stdout",
     "output_type": "stream",
     "text": [
      "['Remember,', 'remember,', 'the', 'fifith', 'of', 'July.']\n",
      "There-can-only-one\n"
     ]
    }
   ],
   "source": [
    "print('Remember, remember, the fifith of July.'.split()) #splits all the character of string as single string\n",
    "print('-'.join('There can only one'.split())) "
   ]
  },
  {
   "cell_type": "code",
   "execution_count": null,
   "id": "9020bc71",
   "metadata": {},
   "outputs": [],
   "source": [
    "9.What are the methods for right-justifying, left-justifying and centering a string ?\n",
    "\n",
    "Sol: The rjust(),ljust(),center() string methods, respectively\n",
    "\n",
    "str.ljust(s, width[, fillchar])\n",
    "\n",
    "str.rjust(s, width[, fillchar])\n",
    "\n",
    "str.center(s, width[, fillchar])"
   ]
  },
  {
   "cell_type": "code",
   "execution_count": null,
   "id": "db806787",
   "metadata": {},
   "outputs": [],
   "source": [
    "10.What is the best way to remove whitespace characters from the start or end ?\n",
    "\n",
    "Sol: The lstrip() and rstrip() methods remove whitesapce characters from the left and right ends of a string respectively.\n",
    "\n"
   ]
  },
  {
   "cell_type": "code",
   "execution_count": 18,
   "id": "b3ec2a28",
   "metadata": {},
   "outputs": [
    {
     "name": "stdout",
     "output_type": "stream",
     "text": [
      "Removing the left strip: I LOVE INDIA @@@@@\n",
      "Removing the right strip:@@@@@ I LOVE INDIA \n",
      "Removing the whole strip: I LOVE INDIA \n"
     ]
    }
   ],
   "source": [
    "s = \"@@@@@ I LOVE INDIA @@@@@\"\n",
    "print(\"Removing the left strip\" + ':' + s.lstrip('@'))\n",
    "print(\"Removing the right strip\" + ':' + s.rstrip('@'))\n",
    "print(\"Removing the whole strip\" + ':' +s.strip('@'))"
   ]
  },
  {
   "cell_type": "code",
   "execution_count": null,
   "id": "13a55f66",
   "metadata": {},
   "outputs": [],
   "source": []
  }
 ],
 "metadata": {
  "kernelspec": {
   "display_name": "Python 3 (ipykernel)",
   "language": "python",
   "name": "python3"
  },
  "language_info": {
   "codemirror_mode": {
    "name": "ipython",
    "version": 3
   },
   "file_extension": ".py",
   "mimetype": "text/x-python",
   "name": "python",
   "nbconvert_exporter": "python",
   "pygments_lexer": "ipython3",
   "version": "3.9.12"
  }
 },
 "nbformat": 4,
 "nbformat_minor": 5
}
