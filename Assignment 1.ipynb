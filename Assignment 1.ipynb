{
 "cells": [
  {
   "cell_type": "code",
   "execution_count": null,
   "id": "fae7dc00",
   "metadata": {},
   "outputs": [],
   "source": [
    "1. In the below elements which of them are values or an expression? eg:- values can be integer or string and expressions will be mathematical operators.\n",
    "* \n",
    "'hello'\n",
    "-87.8\n",
    "- \n",
    "/ \n",
    "+\n",
    "6 \n",
    "\n",
    "\n",
    "Sol. Values are 'hello' , -87.8 , 6\n",
    "     Expressions are * , - , / , +"
   ]
  },
  {
   "cell_type": "markdown",
   "id": "8bf27ef9",
   "metadata": {},
   "source": [
    "2. What is the difference between string and variable?\n",
    "\n",
    "\n",
    "Sol. String are the values ,character or group of characters in python enclosed within a single quotes '' or double quotes \" \". Even triple quote '''  ''' is used to represent multiline strings.\n",
    "\n",
    "     Variables acts as a container in which a value is stored.Value can be of any type like string, float,int,etc.\n",
    "     \n",
    "     For eg. iNeuron is a string value which is stored in a variable or a container (in simple terms) which is n.\n",
    "     "
   ]
  },
  {
   "cell_type": "code",
   "execution_count": 2,
   "id": "eda69132",
   "metadata": {},
   "outputs": [
    {
     "name": "stdout",
     "output_type": "stream",
     "text": [
      "iNeuron\n"
     ]
    }
   ],
   "source": [
    "n = \"iNeuron\" \n",
    "print (n)"
   ]
  },
  {
   "cell_type": "markdown",
   "id": "a792b676",
   "metadata": {},
   "source": [
    "3. Describe three different data types.\n",
    "\n",
    "Sol. Three different data types are :-\n",
    "\n",
    "a) Integer - It contains numeric values in it. For eg : 87 ,4654 \n",
    "b) Float - It contains decimal or floating point integers in it. For eg : 78.465 , 45.540\n",
    "c) Complex - It contains real and imaginary value of integers in it. For eg. 78+5j , 53+48i\n"
   ]
  },
  {
   "cell_type": "code",
   "execution_count": 7,
   "id": "aa15bdba",
   "metadata": {},
   "outputs": [
    {
     "name": "stdout",
     "output_type": "stream",
     "text": [
      "454 <class 'int'>\n",
      "79.564 <class 'float'>\n",
      "(12+5j) <class 'complex'>\n"
     ]
    }
   ],
   "source": [
    "integer = 454\n",
    "print (integer , type (integer))\n",
    "\n",
    "float = 79.564\n",
    "print( float , type (float))\n",
    "\n",
    "complex = 12+5j\n",
    "print( complex , type(complex))"
   ]
  },
  {
   "cell_type": "code",
   "execution_count": null,
   "id": "bd420d70",
   "metadata": {},
   "outputs": [],
   "source": [
    "4. What is an expression made up of? What do all expressions do?\n",
    "\n",
    "Sol. Expression is made up of all the values , variables , operators and calls to the function. It needs to be evaluated for getting \n",
    "an output. Expression is evaluated according to the precedence of given operators. For eg: 45+5-10*9 will give you output as -40.\n",
    "    \n",
    "\n",
    "Expressions is something which when written , directly gives you the output.Like , giving input as 5+4 , will give you output as\n",
    "9 whereas if you give the input a = 5+4 , you wont get direct output as your print statement is missing. So, expression is something\n",
    "which can be reduced to a value."
   ]
  },
  {
   "cell_type": "code",
   "execution_count": 15,
   "id": "d05a2749",
   "metadata": {},
   "outputs": [
    {
     "data": {
      "text/plain": [
       "-40"
      ]
     },
     "execution_count": 15,
     "metadata": {},
     "output_type": "execute_result"
    }
   ],
   "source": [
    "45+5-10*9"
   ]
  },
  {
   "cell_type": "code",
   "execution_count": 8,
   "id": "3066845d",
   "metadata": {},
   "outputs": [
    {
     "data": {
      "text/plain": [
       "9"
      ]
     },
     "execution_count": 8,
     "metadata": {},
     "output_type": "execute_result"
    }
   ],
   "source": [
    "5+4"
   ]
  },
  {
   "cell_type": "code",
   "execution_count": 9,
   "id": "847fb62a",
   "metadata": {},
   "outputs": [],
   "source": [
    "a = 5+4"
   ]
  },
  {
   "cell_type": "code",
   "execution_count": 10,
   "id": "b8dccb19",
   "metadata": {},
   "outputs": [
    {
     "name": "stdout",
     "output_type": "stream",
     "text": [
      "9\n"
     ]
    }
   ],
   "source": [
    "print(a)"
   ]
  },
  {
   "cell_type": "code",
   "execution_count": null,
   "id": "a81dc046",
   "metadata": {},
   "outputs": [],
   "source": [
    "5. This assignment statements, like spam = 10. What is the difference between an expression and a statement?\n",
    "\n",
    "Sol. Expression is made up of all the values , variables , operators and calls to the function. It needs to be evaluated for getting \n",
    "an output. Expression is evaluated according to the precedence of given operators. For eg: 45+9-7 will give you output as 47 .\n",
    "    \n",
    "\n",
    "spam = 10 ; Here, = is the assignment operator which tells us that spam is assigned value 10 , so when we call spam ,\n",
    "we will get output 10.\n",
    "\n",
    "A statement is an instruction that a Python interpreter can execute.So, in simple words, we can say anything written in Python\n",
    "is a statement.A Statement is a action or a command that does something.spam = 10 ; Here, print(spam) will give you output as \n",
    "10. There are mainly four types of statement that Python will interprete; Print statement , Conditional statement , Assignment\n",
    "statement and Looping statement."
   ]
  },
  {
   "cell_type": "code",
   "execution_count": 16,
   "id": "4dcdde0b",
   "metadata": {},
   "outputs": [],
   "source": [
    "spam = 10"
   ]
  },
  {
   "cell_type": "code",
   "execution_count": 18,
   "id": "17bc83be",
   "metadata": {},
   "outputs": [
    {
     "data": {
      "text/plain": [
       "10"
      ]
     },
     "execution_count": 18,
     "metadata": {},
     "output_type": "execute_result"
    }
   ],
   "source": [
    "spam"
   ]
  },
  {
   "cell_type": "code",
   "execution_count": 19,
   "id": "e6688f30",
   "metadata": {},
   "outputs": [
    {
     "name": "stdout",
     "output_type": "stream",
     "text": [
      "10\n"
     ]
    }
   ],
   "source": [
    "print(spam) #It is print statement."
   ]
  },
  {
   "cell_type": "code",
   "execution_count": null,
   "id": "1581bf2e",
   "metadata": {},
   "outputs": [],
   "source": [
    "6. After running the following code, what does the variable bacon contain?\n",
    "bacon = 22\n",
    "bacon + 1\n",
    "\n",
    "\n",
    "Sol. bacon has not being assigned the value again , so when its called bacon will contain 22. But, after writting above code , \n",
    "if new value is assigned to bacon , it would give us output 23."
   ]
  },
  {
   "cell_type": "code",
   "execution_count": 39,
   "id": "b62cd7ab",
   "metadata": {},
   "outputs": [],
   "source": [
    "bacon = 22"
   ]
  },
  {
   "cell_type": "code",
   "execution_count": 40,
   "id": "668ea566",
   "metadata": {},
   "outputs": [
    {
     "data": {
      "text/plain": [
       "23"
      ]
     },
     "execution_count": 40,
     "metadata": {},
     "output_type": "execute_result"
    }
   ],
   "source": [
    "bacon + 1 #here, its just calculating the expression and giving us 23."
   ]
  },
  {
   "cell_type": "code",
   "execution_count": 42,
   "id": "f56205bc",
   "metadata": {},
   "outputs": [
    {
     "name": "stdout",
     "output_type": "stream",
     "text": [
      "22\n"
     ]
    }
   ],
   "source": [
    "print(bacon)  # but when bacon is called we get value as 22 because new vale has not being assigned."
   ]
  },
  {
   "cell_type": "code",
   "execution_count": 43,
   "id": "b9a4fda7",
   "metadata": {},
   "outputs": [],
   "source": [
    "bacon = bacon +1 #This expressions assigns the value to bacon, so we get output as 23."
   ]
  },
  {
   "cell_type": "code",
   "execution_count": 44,
   "id": "c40c337a",
   "metadata": {},
   "outputs": [
    {
     "name": "stdout",
     "output_type": "stream",
     "text": [
      "23\n"
     ]
    }
   ],
   "source": [
    "print(bacon)"
   ]
  },
  {
   "cell_type": "code",
   "execution_count": null,
   "id": "d2bf50d5",
   "metadata": {},
   "outputs": [],
   "source": [
    "7. What should the values of the following two terms be?\n",
    "'spam' + 'spamspam'\n",
    "'spam' * 3\n",
    "\n",
    "Sol. First line of code performs concatentation of tge strings and second line performs the multiplication of the strings.\n",
    "Therefore, output for the expressions is same , i.e., spamspamspam.\n"
   ]
  },
  {
   "cell_type": "code",
   "execution_count": 45,
   "id": "920d6b70",
   "metadata": {},
   "outputs": [
    {
     "name": "stdout",
     "output_type": "stream",
     "text": [
      "spamspamspam\n"
     ]
    }
   ],
   "source": [
    "print('spam' + 'spamspam')"
   ]
  },
  {
   "cell_type": "code",
   "execution_count": 46,
   "id": "403325bc",
   "metadata": {},
   "outputs": [
    {
     "name": "stdout",
     "output_type": "stream",
     "text": [
      "spamspamspam\n"
     ]
    }
   ],
   "source": [
    "print('spam' * 3)"
   ]
  },
  {
   "cell_type": "code",
   "execution_count": null,
   "id": "7dfeda60",
   "metadata": {},
   "outputs": [],
   "source": [
    "8. Why is eggs a valid variable name while 100 is invalid?\n",
    "\n",
    "Sol. As per python , variable names cannot begin with a number. So , when eggs = 100 is written , it assigns value 100 to the\n",
    "variable eggs , which is correct. But, if we write 100 = 'eggs' , it gives us a error stating that we cant assign value to an\n",
    "integer.\n",
    "\n",
    "\n",
    "Rules for Python variables:\n",
    "\n",
    "1)A variable name must start with a letter or the underscore character .\n",
    "2)A variable name cannot start with a number.\n",
    "3)A variable name can only contain alpha-numeric characters and underscores (A-z, 0-9, and _ )\n",
    "4)Variable names are case-sensitive (nancy, Nancy and NANCY are three different variables)\n",
    "5)Reserved keywords can not be used as variable name."
   ]
  },
  {
   "cell_type": "code",
   "execution_count": 55,
   "id": "ae21fa9b",
   "metadata": {},
   "outputs": [],
   "source": [
    "eggs = 100 #valid variable declaration"
   ]
  },
  {
   "cell_type": "code",
   "execution_count": 56,
   "id": "36f524d9",
   "metadata": {},
   "outputs": [
    {
     "name": "stdout",
     "output_type": "stream",
     "text": [
      "100\n"
     ]
    }
   ],
   "source": [
    "print(eggs)"
   ]
  },
  {
   "cell_type": "code",
   "execution_count": 57,
   "id": "628d08ba",
   "metadata": {},
   "outputs": [
    {
     "ename": "SyntaxError",
     "evalue": "cannot assign to literal (2964487344.py, line 1)",
     "output_type": "error",
     "traceback": [
      "\u001b[1;36m  Input \u001b[1;32mIn [57]\u001b[1;36m\u001b[0m\n\u001b[1;33m    100 = 'eggs'\u001b[0m\n\u001b[1;37m    ^\u001b[0m\n\u001b[1;31mSyntaxError\u001b[0m\u001b[1;31m:\u001b[0m cannot assign to literal\n"
     ]
    }
   ],
   "source": [
    "100 = 'eggs' # invalid variable declaration"
   ]
  },
  {
   "cell_type": "code",
   "execution_count": null,
   "id": "bd54d702",
   "metadata": {},
   "outputs": [],
   "source": [
    "9. What three functions can be used to get the integer, floating-point number, or string version of a value?\n",
    "\n",
    "Sol.The three functions are int() , float() and str() which can be used to get integer , floating point number or a string version of\n",
    "a value respectively."
   ]
  },
  {
   "cell_type": "code",
   "execution_count": 77,
   "id": "02544a42",
   "metadata": {},
   "outputs": [
    {
     "name": "stdout",
     "output_type": "stream",
     "text": [
      "11\n",
      "<class 'float'>\n"
     ]
    }
   ],
   "source": [
    "a = 11.548\n",
    "print (int(a))\n",
    "print (type(a))"
   ]
  },
  {
   "cell_type": "code",
   "execution_count": 83,
   "id": "a663fcc8",
   "metadata": {},
   "outputs": [
    {
     "name": "stdout",
     "output_type": "stream",
     "text": [
      "564.45\n",
      "<class 'float'>\n"
     ]
    }
   ],
   "source": [
    "b = 564.45\n",
    "print (b)\n",
    "print (type(b))"
   ]
  },
  {
   "cell_type": "code",
   "execution_count": 80,
   "id": "df10d3e4",
   "metadata": {},
   "outputs": [
    {
     "name": "stdout",
     "output_type": "stream",
     "text": [
      "How are you\n",
      "<class 'str'>\n"
     ]
    }
   ],
   "source": [
    "c= \"How are you\"\n",
    "print(c)\n",
    "print(type(c))"
   ]
  },
  {
   "cell_type": "code",
   "execution_count": null,
   "id": "2cd14d76",
   "metadata": {},
   "outputs": [],
   "source": [
    "10. Why does this expression cause an error? How can you fix it?\n",
    "'I have eaten ' + 99 + ' burritos.'\n",
    "\n",
    "Sol. This expression causes an error because python doesnt allow concatenation of a string with an integer.\n",
    "We can fix it by converting, also known as typecasting 99 also into a string datatype and write it like '99'"
   ]
  },
  {
   "cell_type": "code",
   "execution_count": 85,
   "id": "bcea2215",
   "metadata": {},
   "outputs": [
    {
     "ename": "TypeError",
     "evalue": "can only concatenate str (not \"int\") to str",
     "output_type": "error",
     "traceback": [
      "\u001b[1;31m---------------------------------------------------------------------------\u001b[0m",
      "\u001b[1;31mTypeError\u001b[0m                                 Traceback (most recent call last)",
      "Input \u001b[1;32mIn [85]\u001b[0m, in \u001b[0;36m<cell line: 1>\u001b[1;34m()\u001b[0m\n\u001b[1;32m----> 1\u001b[0m \u001b[38;5;124;43m'\u001b[39;49m\u001b[38;5;124;43mI have eaten \u001b[39;49m\u001b[38;5;124;43m'\u001b[39;49m\u001b[43m \u001b[49m\u001b[38;5;241;43m+\u001b[39;49m\u001b[43m \u001b[49m\u001b[38;5;241;43m99\u001b[39;49m \u001b[38;5;241m+\u001b[39m \u001b[38;5;124m'\u001b[39m\u001b[38;5;124m burritos.\u001b[39m\u001b[38;5;124m'\u001b[39m\n",
      "\u001b[1;31mTypeError\u001b[0m: can only concatenate str (not \"int\") to str"
     ]
    }
   ],
   "source": [
    "'I have eaten ' + 99 + ' burritos.'"
   ]
  },
  {
   "cell_type": "code",
   "execution_count": 86,
   "id": "a1bc71e9",
   "metadata": {},
   "outputs": [
    {
     "data": {
      "text/plain": [
       "'I have eaten 99 burritos.'"
      ]
     },
     "execution_count": 86,
     "metadata": {},
     "output_type": "execute_result"
    }
   ],
   "source": [
    "#So, now if run the below code:\n",
    "\n",
    "'I have eaten ' + '99' + ' burritos.'"
   ]
  },
  {
   "cell_type": "code",
   "execution_count": null,
   "id": "8cdc1bfd",
   "metadata": {},
   "outputs": [],
   "source": [
    "Here, we wont get any error as we perform concatenation of string with a string."
   ]
  },
  {
   "cell_type": "code",
   "execution_count": null,
   "id": "32212054",
   "metadata": {},
   "outputs": [],
   "source": []
  },
  {
   "cell_type": "code",
   "execution_count": null,
   "id": "458c012c",
   "metadata": {},
   "outputs": [],
   "source": []
  }
 ],
 "metadata": {
  "kernelspec": {
   "display_name": "Python 3 (ipykernel)",
   "language": "python",
   "name": "python3"
  },
  "language_info": {
   "codemirror_mode": {
    "name": "ipython",
    "version": 3
   },
   "file_extension": ".py",
   "mimetype": "text/x-python",
   "name": "python",
   "nbconvert_exporter": "python",
   "pygments_lexer": "ipython3",
   "version": "3.9.12"
  }
 },
 "nbformat": 4,
 "nbformat_minor": 5
}
