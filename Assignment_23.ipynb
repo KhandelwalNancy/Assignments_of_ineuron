{
 "cells": [
  {
   "cell_type": "markdown",
   "id": "4471e393",
   "metadata": {},
   "source": [
    "## ASSIGNMENT 23"
   ]
  },
  {
   "cell_type": "code",
   "execution_count": null,
   "id": "9d39c817",
   "metadata": {},
   "outputs": [],
   "source": [
    "1. What is the result of the code, and why?\n",
    ">>> def func(a, b=6, c=8):\n",
    "print(a, b, c)\n",
    ">>> func(1, 2)"
   ]
  },
  {
   "cell_type": "code",
   "execution_count": null,
   "id": "ce416338",
   "metadata": {},
   "outputs": [],
   "source": [
    "Sol: The result of the above code is 1 2 8. It is because the function uses the default value of c i.e 8 which is provided at\n",
    "     the time of declaration. We can see this below:"
   ]
  },
  {
   "cell_type": "code",
   "execution_count": 1,
   "id": "c6741643",
   "metadata": {},
   "outputs": [
    {
     "name": "stdout",
     "output_type": "stream",
     "text": [
      "1 2 8\n"
     ]
    }
   ],
   "source": [
    "def func(a,b=6,c=8):\n",
    "    print(a,b,c)\n",
    "func(1,2)"
   ]
  },
  {
   "cell_type": "code",
   "execution_count": null,
   "id": "6972e81f",
   "metadata": {},
   "outputs": [],
   "source": [
    "2. What is the result of this code, and why?\n",
    ">>> def func(a, b, c=5):\n",
    "print(a, b, c)\n",
    ">>> func(1, c=3, b=2)"
   ]
  },
  {
   "cell_type": "code",
   "execution_count": null,
   "id": "16a2db51",
   "metadata": {},
   "outputs": [],
   "source": [
    "Sol: The result of the above code is 1 2 3. It is because the function will use default values only when a value for a argument\n",
    "    is not provided and if the argument name is mentioned while doing a function call, the order of arguments is also ignored \n",
    "    by the python interpreter."
   ]
  },
  {
   "cell_type": "code",
   "execution_count": 2,
   "id": "16cac833",
   "metadata": {},
   "outputs": [
    {
     "name": "stdout",
     "output_type": "stream",
     "text": [
      "1 2 3\n"
     ]
    }
   ],
   "source": [
    "def func(a,b,c=5):\n",
    "    print(a,b,c)\n",
    "func(1,c=3,b=2)"
   ]
  },
  {
   "cell_type": "code",
   "execution_count": null,
   "id": "ba5072db",
   "metadata": {},
   "outputs": [],
   "source": [
    "3. How about this code: what is its result, and why?\n",
    ">>> def func(a, *pargs):\n",
    "print(a, pargs)\n",
    ">>> func(1, 2, 3)"
   ]
  },
  {
   "cell_type": "code",
   "execution_count": null,
   "id": "3c07ef82",
   "metadata": {},
   "outputs": [],
   "source": [
    "Sol:The result of the code is 1 (2,3). *pargs stands for variable length arguments. This format is used when we are not sure \n",
    "    about the number of arguments to be passed to a function. All the values under this argument will be stored in a tuple."
   ]
  },
  {
   "cell_type": "code",
   "execution_count": 3,
   "id": "6fdd0af0",
   "metadata": {},
   "outputs": [
    {
     "name": "stdout",
     "output_type": "stream",
     "text": [
      "1 (2, 3)\n"
     ]
    }
   ],
   "source": [
    "def func(a, *pargs):\n",
    "    print(a,pargs)\n",
    "func(1,2,3)"
   ]
  },
  {
   "cell_type": "code",
   "execution_count": null,
   "id": "ec3bcd6a",
   "metadata": {},
   "outputs": [],
   "source": [
    "4. What does this code print, and why?\n",
    ">>> def func(a, **kargs):\n",
    "print(a, kargs)\n",
    ">>> func(a=1, c=3, b=2)"
   ]
  },
  {
   "cell_type": "code",
   "execution_count": null,
   "id": "6e5a0863",
   "metadata": {},
   "outputs": [],
   "source": [
    "Sol:  The result of the above code is 1 {'c': 3, 'b': 2}. **args stands for variable length keyword arguments. This format is\n",
    "    used when we want pass key value pairs as input to a function. All these key value pairs will be stored in a dictionary."
   ]
  },
  {
   "cell_type": "code",
   "execution_count": 4,
   "id": "010bd2a7",
   "metadata": {},
   "outputs": [
    {
     "name": "stdout",
     "output_type": "stream",
     "text": [
      "1 {'c': 3, 'b': 2}\n"
     ]
    }
   ],
   "source": [
    "def func(a,**kargs):\n",
    "    print(a,kargs)\n",
    "func(a=1,c=3,b=2)"
   ]
  },
  {
   "cell_type": "code",
   "execution_count": null,
   "id": "c955640f",
   "metadata": {},
   "outputs": [],
   "source": [
    "5. What gets printed by this, and explain?\n",
    ">>> def func(a, b, c=8, d=5): print(a, b, c, d)\n",
    ">>> func(1, *(5, 6))"
   ]
  },
  {
   "cell_type": "code",
   "execution_count": null,
   "id": "f44a17a1",
   "metadata": {},
   "outputs": [],
   "source": [
    "Sol:The output of the above is 1 5 6 5. The reason for this function not throwing an error is because, this function expects 4\n",
    "    arguments. The value for a is provided explicitly whereas for arguments b and c, the function will expand *(5,6) and\n",
    "    consider the value of b as 5 and value of c as 6. Since the default value of d is provided in function declaration,\n",
    "    d value will be 5. However it is recommended to use the feature of positional arguments at the end."
   ]
  },
  {
   "cell_type": "code",
   "execution_count": 7,
   "id": "9b94df13",
   "metadata": {},
   "outputs": [
    {
     "name": "stdout",
     "output_type": "stream",
     "text": [
      "1 5 6 5\n"
     ]
    }
   ],
   "source": [
    "def func(a,b,c=8,d=5):\n",
    "    print(a,b,c,d)\n",
    "func(1,*(5,6))"
   ]
  },
  {
   "cell_type": "code",
   "execution_count": null,
   "id": "6bc30cc0",
   "metadata": {},
   "outputs": [],
   "source": [
    "6. what is the result of this, and explain?\n",
    ">>> def func(a, b, c): a = 2; b[0] = 'x'; c['a'] = 'y'\n",
    ">>> l=1; m=[1]; n={'a':0}\n",
    ">>> func(l, m, n)\n",
    ">>> l, m, n"
   ]
  },
  {
   "cell_type": "code",
   "execution_count": null,
   "id": "c5a2e696",
   "metadata": {},
   "outputs": [],
   "source": [
    "Sol: The output of above code is 1, ['x'], {'a': 'y'}.\n",
    "\n",
    "1. Even though Python gives importance to indentation, it provides a facility to declare an entire function in one single line\n",
    "where statements in a function body are sepereated by ;\n",
    "\n",
    "2. When l,m,n are provided as inputs to the function, it modifies the values of l,m,n and sets the value of l=1 ,m=['x'] and \n",
    "n={'a':'y'}\n"
   ]
  },
  {
   "cell_type": "code",
   "execution_count": 8,
   "id": "b3d74580",
   "metadata": {},
   "outputs": [
    {
     "data": {
      "text/plain": [
       "(1, ['x'], {'a': 'y'})"
      ]
     },
     "execution_count": 8,
     "metadata": {},
     "output_type": "execute_result"
    }
   ],
   "source": [
    "def func(a, b, c): a = 2; b[0] = 'x'; c['a'] = 'y'\n",
    "l=1; m=[1]; n={'a':0}\n",
    "func(l, m, n)\n",
    "l,m,n"
   ]
  },
  {
   "cell_type": "code",
   "execution_count": null,
   "id": "5b562db6",
   "metadata": {},
   "outputs": [],
   "source": []
  },
  {
   "cell_type": "code",
   "execution_count": null,
   "id": "0d8228d4",
   "metadata": {},
   "outputs": [],
   "source": []
  }
 ],
 "metadata": {
  "kernelspec": {
   "display_name": "Python 3 (ipykernel)",
   "language": "python",
   "name": "python3"
  },
  "language_info": {
   "codemirror_mode": {
    "name": "ipython",
    "version": 3
   },
   "file_extension": ".py",
   "mimetype": "text/x-python",
   "name": "python",
   "nbconvert_exporter": "python",
   "pygments_lexer": "ipython3",
   "version": "3.9.12"
  }
 },
 "nbformat": 4,
 "nbformat_minor": 5
}
