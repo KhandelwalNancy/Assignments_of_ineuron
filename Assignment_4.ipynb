{
 "cells": [
  {
   "cell_type": "markdown",
   "id": "4b8a830d",
   "metadata": {},
   "source": [
    "# ASSIGNMENT 4"
   ]
  },
  {
   "cell_type": "code",
   "execution_count": null,
   "id": "438a8de5",
   "metadata": {},
   "outputs": [],
   "source": [
    "1. What exactly is []?\n",
    "\n",
    "Sol. [] square brackets shows us the empty list.Empty list means it contains no values in it.Here, a is a empty list having no \n",
    "values in it."
   ]
  },
  {
   "cell_type": "code",
   "execution_count": 20,
   "id": "008b120c",
   "metadata": {},
   "outputs": [
    {
     "name": "stdout",
     "output_type": "stream",
     "text": [
      "[]\n",
      "<class 'list'>\n",
      "0\n"
     ]
    }
   ],
   "source": [
    "a=[]\n",
    "print(a)\n",
    "print(type(a))\n",
    "print(len(a))"
   ]
  },
  {
   "cell_type": "code",
   "execution_count": null,
   "id": "ec59d293",
   "metadata": {},
   "outputs": [],
   "source": [
    "2. In a list of values stored in a variable called spam, how would you assign the value 'hello' as the third value? \n",
    "(Assume [2, 4, 6, 8, 10] are in spam.)"
   ]
  },
  {
   "cell_type": "code",
   "execution_count": 21,
   "id": "62ce04b9",
   "metadata": {},
   "outputs": [],
   "source": [
    "#Sol.Indexing in list starts from zero.\n",
    "spam = [2,4,6,8,10]"
   ]
  },
  {
   "cell_type": "code",
   "execution_count": 22,
   "id": "10e5bc03",
   "metadata": {},
   "outputs": [],
   "source": [
    "spam [2] = \"hello\""
   ]
  },
  {
   "cell_type": "code",
   "execution_count": 23,
   "id": "86a71f6b",
   "metadata": {},
   "outputs": [
    {
     "name": "stdout",
     "output_type": "stream",
     "text": [
      "[2, 4, 'hello', 8, 10]\n"
     ]
    }
   ],
   "source": [
    "print(spam)"
   ]
  },
  {
   "cell_type": "markdown",
   "id": "ea3a55e7",
   "metadata": {},
   "source": [
    "Let's pretend the spam includes the list ['a', 'b', 'c', 'd'] for the next three queries."
   ]
  },
  {
   "cell_type": "code",
   "execution_count": null,
   "id": "c401704e",
   "metadata": {},
   "outputs": [],
   "source": [
    "3. What is the value of spam[int(int('3' * 2) / 11)]?"
   ]
  },
  {
   "cell_type": "code",
   "execution_count": 24,
   "id": "0bcd1b68",
   "metadata": {},
   "outputs": [],
   "source": [
    "#Sol. '3' string is multiplied to get '33' which is converted to integer and divided by 11 to get 3. Now, we calculate the value\n",
    "# of spam[3] which gives d as output.\n",
    "\n",
    "spam = ['a' , 'b' , 'c' , 'd']"
   ]
  },
  {
   "cell_type": "code",
   "execution_count": 25,
   "id": "62ca4eb8",
   "metadata": {},
   "outputs": [
    {
     "name": "stdout",
     "output_type": "stream",
     "text": [
      "d\n"
     ]
    }
   ],
   "source": [
    "print(spam[int(int('3' * 2) / 11)])"
   ]
  },
  {
   "cell_type": "code",
   "execution_count": null,
   "id": "205f5e8e",
   "metadata": {},
   "outputs": [],
   "source": [
    "4. What is the value of spam[-1]?"
   ]
  },
  {
   "cell_type": "code",
   "execution_count": 26,
   "id": "c30a97e1",
   "metadata": {},
   "outputs": [
    {
     "name": "stdout",
     "output_type": "stream",
     "text": [
      "d\n"
     ]
    }
   ],
   "source": [
    "#Sol. Negative indexing means the order is reversed and we will get last item of the list.\n",
    "print(spam[-1])"
   ]
  },
  {
   "cell_type": "code",
   "execution_count": null,
   "id": "e50c9384",
   "metadata": {},
   "outputs": [],
   "source": [
    "5. What is the value of spam[:2]?"
   ]
  },
  {
   "cell_type": "code",
   "execution_count": 27,
   "id": "e0de3836",
   "metadata": {},
   "outputs": [
    {
     "name": "stdout",
     "output_type": "stream",
     "text": [
      "['a', 'b']\n"
     ]
    }
   ],
   "source": [
    "#Sol. It means returning all elements in the list spam from index 0 to 2 excluding 2.\n",
    "\n",
    "print(spam[:2])"
   ]
  },
  {
   "cell_type": "markdown",
   "id": "eb7b67a1",
   "metadata": {},
   "source": [
    "Let's pretend bacon has the list [3.14, 'cat,' 11, 'cat,' True] for the next three questions.\n"
   ]
  },
  {
   "cell_type": "code",
   "execution_count": null,
   "id": "515e95f4",
   "metadata": {},
   "outputs": [],
   "source": [
    "6. What is the value of bacon.index('cat')?"
   ]
  },
  {
   "cell_type": "code",
   "execution_count": 43,
   "id": "ea03ef5c",
   "metadata": {},
   "outputs": [
    {
     "name": "stdout",
     "output_type": "stream",
     "text": [
      "[3.14, 'cat', 11, 'cat', True]\n"
     ]
    }
   ],
   "source": [
    "bacon = [3.14, 'cat' ,  11, 'cat' , True]\n",
    "print(bacon)"
   ]
  },
  {
   "cell_type": "code",
   "execution_count": 44,
   "id": "923e994e",
   "metadata": {},
   "outputs": [
    {
     "name": "stdout",
     "output_type": "stream",
     "text": [
      "1\n"
     ]
    }
   ],
   "source": [
    "#Sol.Index method returns the index of the value that it which index does that value lie. The index of first occurance of 'cat'\n",
    "#will be considered so we get output as 1.\n",
    "\n",
    "print(bacon.index('cat'))"
   ]
  },
  {
   "cell_type": "code",
   "execution_count": null,
   "id": "b9020246",
   "metadata": {},
   "outputs": [],
   "source": [
    "7. How does bacon.append(99) change the look of the list value in bacon?"
   ]
  },
  {
   "cell_type": "code",
   "execution_count": 45,
   "id": "d3506365",
   "metadata": {},
   "outputs": [],
   "source": [
    "#Sol.The append method adds the elememts to the end of list.\n",
    "\n",
    "bacon.append(99)"
   ]
  },
  {
   "cell_type": "code",
   "execution_count": 46,
   "id": "05f81435",
   "metadata": {},
   "outputs": [
    {
     "name": "stdout",
     "output_type": "stream",
     "text": [
      "[3.14, 'cat', 11, 'cat', True, 99]\n"
     ]
    }
   ],
   "source": [
    "print(bacon)"
   ]
  },
  {
   "cell_type": "code",
   "execution_count": null,
   "id": "52ac5446",
   "metadata": {},
   "outputs": [],
   "source": [
    "8. How does bacon.remove('cat') change the look of the list in bacon?"
   ]
  },
  {
   "cell_type": "code",
   "execution_count": 47,
   "id": "2cb45721",
   "metadata": {},
   "outputs": [],
   "source": [
    "#Sol.The remove method removes the first occurence of the element in the list.\n",
    "\n",
    "bacon.remove('cat')"
   ]
  },
  {
   "cell_type": "code",
   "execution_count": 48,
   "id": "bbc0a082",
   "metadata": {},
   "outputs": [
    {
     "name": "stdout",
     "output_type": "stream",
     "text": [
      "[3.14, 11, 'cat', True, 99]\n"
     ]
    }
   ],
   "source": [
    "print(bacon)"
   ]
  },
  {
   "cell_type": "code",
   "execution_count": null,
   "id": "efbd2ef9",
   "metadata": {},
   "outputs": [],
   "source": [
    "9. What are the list concatenation and list replication operators?\n",
    "\n",
    "Sol. List concatenation uses '+' operator which means we are adding the elements of two list to form a new list.\n",
    "List replication uses '*' operator which means we are multiplying the elements of a list as many times we want."
   ]
  },
  {
   "cell_type": "code",
   "execution_count": 49,
   "id": "57772d05",
   "metadata": {},
   "outputs": [],
   "source": [
    "l1=[45,45,78,7]\n",
    "l2=[85,78,54,4]"
   ]
  },
  {
   "cell_type": "markdown",
   "id": "dcf7e62c",
   "metadata": {},
   "source": [
    "l1+l2"
   ]
  },
  {
   "cell_type": "code",
   "execution_count": 54,
   "id": "ef1c93c7",
   "metadata": {},
   "outputs": [
    {
     "name": "stdout",
     "output_type": "stream",
     "text": [
      "[45, 45, 78, 7, 85, 78, 54, 4]\n"
     ]
    }
   ],
   "source": [
    "print(l1+l2) #list concatenation"
   ]
  },
  {
   "cell_type": "code",
   "execution_count": 55,
   "id": "874ea404",
   "metadata": {},
   "outputs": [
    {
     "name": "stdout",
     "output_type": "stream",
     "text": [
      "[45, 45, 78, 7, 45, 45, 78, 7]\n"
     ]
    }
   ],
   "source": [
    "print(l1*2) #list replication"
   ]
  },
  {
   "cell_type": "code",
   "execution_count": 56,
   "id": "84255211",
   "metadata": {},
   "outputs": [
    {
     "name": "stdout",
     "output_type": "stream",
     "text": [
      "[85, 78, 54, 4, 85, 78, 54, 4, 85, 78, 54, 4]\n"
     ]
    }
   ],
   "source": [
    "print(l2*3) #list replication"
   ]
  },
  {
   "cell_type": "code",
   "execution_count": null,
   "id": "6b696881",
   "metadata": {},
   "outputs": [],
   "source": [
    "10. What is difference between the list methods append() and insert()?\n",
    "\n",
    "Sol. While append() will add values only to the end of a list, insert() can add them anywhere in the list."
   ]
  },
  {
   "cell_type": "code",
   "execution_count": 57,
   "id": "44d98bc8",
   "metadata": {},
   "outputs": [
    {
     "name": "stdout",
     "output_type": "stream",
     "text": [
      "[45, 45, 78, 7, 8754]\n",
      "[85, 78, 'Nancy', 54, 4]\n"
     ]
    }
   ],
   "source": [
    "l1.append(8754) #add the element at the end of the list\n",
    "print(l1)\n",
    "l2.insert(2 , 'Nancy') #add the element at index 2 with the value 'Nancy'\n",
    "print(l2)"
   ]
  },
  {
   "cell_type": "code",
   "execution_count": null,
   "id": "a01142ad",
   "metadata": {},
   "outputs": [],
   "source": [
    "11. What are the two methods for removing items from a list?\n",
    "\n",
    "Sol. The del statement and remove() method.\n",
    "\n",
    "The del statement will remove the element at the particular index.\n",
    "The remove() method will remove the particular element called."
   ]
  },
  {
   "cell_type": "code",
   "execution_count": 59,
   "id": "48c2b5b0",
   "metadata": {},
   "outputs": [
    {
     "name": "stdout",
     "output_type": "stream",
     "text": [
      "[45, 45, 78, 8754]\n",
      "[85, 'Nancy', 54, 4]\n"
     ]
    }
   ],
   "source": [
    "del l1[3]\n",
    "print(l1)\n",
    "\n",
    "l2.remove(78)\n",
    "print(l2)"
   ]
  },
  {
   "cell_type": "code",
   "execution_count": null,
   "id": "4a0c0210",
   "metadata": {},
   "outputs": [],
   "source": [
    "12. Describe how list values and string values are identical.\n",
    "\n",
    "Sol. Some ways list and string values are identical are:\n",
    "\n",
    "1.They both lists and strings can be passed to len() function.\n",
    "2.In both, indexing and slicing can be done, and  be used in for loops.\n",
    "3.Both can be concatenated and replicated.\n",
    "4.Can be used with the in and not in operators.\n"
   ]
  },
  {
   "cell_type": "code",
   "execution_count": null,
   "id": "ee8e674b",
   "metadata": {},
   "outputs": [],
   "source": [
    "13. What's the difference between tuples and lists?\n",
    "\n",
    "Sol. Lists are Mutable, Indexable and Slicable. They can have values added, removed, or changed. \n",
    "Tuples are Immutable but Indexable and Slicable.The tuple values cannot be changed at all. \n",
    "Also, tuples are represented using parentheses, (), while lists use the square brackets, [].\n",
    "\n",
    "\n"
   ]
  },
  {
   "cell_type": "code",
   "execution_count": null,
   "id": "be3243e8",
   "metadata": {},
   "outputs": [],
   "source": [
    "14. How do you type a tuple value that only contains the integer 42?\n",
    "\n",
    "Sol. (42,) (The trailing comma is mandatory. otherwise its considered as a int by python Interpreter)\n"
   ]
  },
  {
   "cell_type": "code",
   "execution_count": 60,
   "id": "69edfd95",
   "metadata": {},
   "outputs": [
    {
     "name": "stdout",
     "output_type": "stream",
     "text": [
      "<class 'int'> 42\n",
      "<class 'tuple'> (42,)\n"
     ]
    }
   ],
   "source": [
    "t1=(42)\n",
    "t2=(42,)\n",
    "print(type(t1) , t1)\n",
    "print(type(t2) , t2)"
   ]
  },
  {
   "cell_type": "code",
   "execution_count": null,
   "id": "ce65bfec",
   "metadata": {},
   "outputs": [],
   "source": [
    "15. How do you get a list value's tuple form? How do you get a tuple value's list form?\n",
    "\n",
    "Sol.The tuple() and list() functions, respectively are used to convert a list to tuple and vice versa."
   ]
  },
  {
   "cell_type": "code",
   "execution_count": 61,
   "id": "0b6aabbf",
   "metadata": {},
   "outputs": [
    {
     "name": "stdout",
     "output_type": "stream",
     "text": [
      "[45, 45, 78, 8754]\n"
     ]
    }
   ],
   "source": [
    "print(l1) #print list"
   ]
  },
  {
   "cell_type": "code",
   "execution_count": 62,
   "id": "265166b5",
   "metadata": {},
   "outputs": [
    {
     "name": "stdout",
     "output_type": "stream",
     "text": [
      "(45, 45, 78, 8754)\n"
     ]
    }
   ],
   "source": [
    "print(tuple(l1)) #convert list l1 into tuple"
   ]
  },
  {
   "cell_type": "code",
   "execution_count": 64,
   "id": "d553c56c",
   "metadata": {},
   "outputs": [
    {
     "name": "stdout",
     "output_type": "stream",
     "text": [
      "(87, 468, 56, 787)\n",
      "[87, 468, 56, 787]\n"
     ]
    }
   ],
   "source": [
    "t=(87,468,56,787) \n",
    "print(t)   #print tuple\n",
    "print(list(t)) #convert tuple into list"
   ]
  },
  {
   "cell_type": "code",
   "execution_count": null,
   "id": "a6d19615",
   "metadata": {},
   "outputs": [],
   "source": [
    "16. Variables that \"contain\" list values are not necessarily lists themselves. Instead, what do they contain?\n",
    "\n",
    "Sol.They contain references to list values."
   ]
  },
  {
   "cell_type": "code",
   "execution_count": null,
   "id": "80ad5b21",
   "metadata": {},
   "outputs": [],
   "source": [
    "17. How do you distinguish between copy.copy() and copy.deepcopy()?\n",
    "\n",
    "Sol. The copy.copy() function will do a shallow copy of a list, while the copy.deepcopy() function will do a deep copy\n",
    "of a list. That is, only copy.deepcopy() will duplicate any lists inside the list."
   ]
  },
  {
   "cell_type": "code",
   "execution_count": 70,
   "id": "e04caca6",
   "metadata": {},
   "outputs": [],
   "source": [
    "import copy\n",
    "l8 = [2,3,4,5,6,7,8,9,10]\n",
    "l9=copy.copy(l8)\n",
    "l10=copy.deepcopy(l8)"
   ]
  },
  {
   "cell_type": "code",
   "execution_count": 73,
   "id": "8e50d47f",
   "metadata": {},
   "outputs": [
    {
     "data": {
      "text/plain": [
       "[2, 3, 4, 5, 6, 7, 8, 9, 10]"
      ]
     },
     "execution_count": 73,
     "metadata": {},
     "output_type": "execute_result"
    }
   ],
   "source": [
    "l8"
   ]
  },
  {
   "cell_type": "code",
   "execution_count": 74,
   "id": "31327ed8",
   "metadata": {},
   "outputs": [
    {
     "data": {
      "text/plain": [
       "[2, 3, 4, 5, 6, 7, 8, 9, 10]"
      ]
     },
     "execution_count": 74,
     "metadata": {},
     "output_type": "execute_result"
    }
   ],
   "source": [
    "l10"
   ]
  },
  {
   "cell_type": "code",
   "execution_count": null,
   "id": "be79af56",
   "metadata": {},
   "outputs": [],
   "source": []
  },
  {
   "cell_type": "code",
   "execution_count": null,
   "id": "2336daba",
   "metadata": {},
   "outputs": [],
   "source": []
  },
  {
   "cell_type": "code",
   "execution_count": null,
   "id": "d91ac25b",
   "metadata": {},
   "outputs": [],
   "source": []
  },
  {
   "cell_type": "code",
   "execution_count": null,
   "id": "14ff026e",
   "metadata": {},
   "outputs": [],
   "source": []
  },
  {
   "cell_type": "code",
   "execution_count": 38,
   "id": "78d18d24",
   "metadata": {},
   "outputs": [],
   "source": []
  },
  {
   "cell_type": "code",
   "execution_count": null,
   "id": "9ba83484",
   "metadata": {},
   "outputs": [],
   "source": []
  },
  {
   "cell_type": "code",
   "execution_count": null,
   "id": "601684c9",
   "metadata": {},
   "outputs": [],
   "source": []
  },
  {
   "cell_type": "code",
   "execution_count": null,
   "id": "be34d13f",
   "metadata": {},
   "outputs": [],
   "source": []
  }
 ],
 "metadata": {
  "kernelspec": {
   "display_name": "Python 3 (ipykernel)",
   "language": "python",
   "name": "python3"
  },
  "language_info": {
   "codemirror_mode": {
    "name": "ipython",
    "version": 3
   },
   "file_extension": ".py",
   "mimetype": "text/x-python",
   "name": "python",
   "nbconvert_exporter": "python",
   "pygments_lexer": "ipython3",
   "version": "3.9.12"
  }
 },
 "nbformat": 4,
 "nbformat_minor": 5
}
