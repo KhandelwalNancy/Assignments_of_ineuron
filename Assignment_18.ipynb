{
 "cells": [
  {
   "cell_type": "markdown",
   "id": "fed50547",
   "metadata": {},
   "source": [
    "## ASSIGNMENT 18"
   ]
  },
  {
   "cell_type": "code",
   "execution_count": null,
   "id": "a0a2700b",
   "metadata": {},
   "outputs": [],
   "source": [
    "1. Create a zoo.py file first. Define the hours() function, which prints the string 'Open 9-5 daily'. Then, use the interactive\n",
    "interpreter to import the zoo module and call its hours() function.\n"
   ]
  },
  {
   "cell_type": "code",
   "execution_count": 5,
   "id": "1f3d0018",
   "metadata": {},
   "outputs": [
    {
     "name": "stdout",
     "output_type": "stream",
     "text": [
      "Open 9-5 daily\n"
     ]
    }
   ],
   "source": [
    "!type zoo.py\n",
    "def hours():\n",
    "    print(\"Open 9-5 daily\")\n",
    "import zoo\n",
    "zoo.hours()"
   ]
  },
  {
   "cell_type": "code",
   "execution_count": null,
   "id": "635f8b0a",
   "metadata": {},
   "outputs": [],
   "source": [
    "2. In the interactive interpreter, import the zoo module as menagerie and call its hours() function."
   ]
  },
  {
   "cell_type": "code",
   "execution_count": 6,
   "id": "b044fe33",
   "metadata": {},
   "outputs": [
    {
     "name": "stdout",
     "output_type": "stream",
     "text": [
      "Open 9-5 daily\n"
     ]
    }
   ],
   "source": [
    "import zoo as menagerie\n",
    "menagerie.hours()"
   ]
  },
  {
   "cell_type": "code",
   "execution_count": null,
   "id": "b2051451",
   "metadata": {},
   "outputs": [],
   "source": [
    "3. Using the interpreter, explicitly import and call the hours() function from zoo."
   ]
  },
  {
   "cell_type": "code",
   "execution_count": 7,
   "id": "65daa7c6",
   "metadata": {},
   "outputs": [
    {
     "name": "stdout",
     "output_type": "stream",
     "text": [
      "Open 9-5 daily\n"
     ]
    }
   ],
   "source": [
    "from zoo import hours\n",
    "hours()"
   ]
  },
  {
   "cell_type": "code",
   "execution_count": null,
   "id": "17222e0d",
   "metadata": {},
   "outputs": [],
   "source": [
    "4. Import the hours() function as info and call it."
   ]
  },
  {
   "cell_type": "code",
   "execution_count": 8,
   "id": "25a1f22f",
   "metadata": {},
   "outputs": [
    {
     "name": "stdout",
     "output_type": "stream",
     "text": [
      "Open 9-5 daily\n"
     ]
    }
   ],
   "source": [
    "from zoo import hours as info\n",
    "info()"
   ]
  },
  {
   "cell_type": "code",
   "execution_count": null,
   "id": "d4f8d935",
   "metadata": {},
   "outputs": [],
   "source": [
    "5. Create a plain dictionary with the key-value pairs 'a': 1, 'b': 2, and 'c': 3, and print it out."
   ]
  },
  {
   "cell_type": "code",
   "execution_count": 10,
   "id": "b8e35391",
   "metadata": {},
   "outputs": [
    {
     "name": "stdout",
     "output_type": "stream",
     "text": [
      "{'a': 1, 'b': 2, 'c': 3}\n"
     ]
    }
   ],
   "source": [
    "plain_d = {'a': 1, 'b': 2, 'c': 3}\n",
    "print(plain_d)"
   ]
  },
  {
   "cell_type": "code",
   "execution_count": null,
   "id": "4de2b932",
   "metadata": {},
   "outputs": [],
   "source": [
    "6.Make an OrderedDict called fancy from the same pairs listed in 5 and print it. Did it print in the same order as plain?\n",
    "\n",
    "Sol: Yes, its printed in same order."
   ]
  },
  {
   "cell_type": "code",
   "execution_count": 13,
   "id": "21777297",
   "metadata": {},
   "outputs": [
    {
     "name": "stdout",
     "output_type": "stream",
     "text": [
      "Plain dictionary --->  {'a': 1, 'b': 2, 'c': 3}\n",
      "Ordered dictionary --->  OrderedDict([('a', 1), ('b', 2), ('c', 3)])\n"
     ]
    }
   ],
   "source": [
    "from collections import OrderedDict\n",
    "fancy = OrderedDict(plain_d)\n",
    "print(\"Plain dictionary ---> \" , plain_d)\n",
    "print(\"Ordered dictionary ---> \",fancy)"
   ]
  },
  {
   "cell_type": "code",
   "execution_count": null,
   "id": "b9001341",
   "metadata": {},
   "outputs": [],
   "source": [
    "7. Make a default dictionary called dict_of_lists and pass it the argument list. Make the list dict_of_lists['a'] and append \n",
    "   the value 'something for a' to it in one assignment. Print dict_of_lists['a']."
   ]
  },
  {
   "cell_type": "code",
   "execution_count": 15,
   "id": "a4a67ddc",
   "metadata": {},
   "outputs": [
    {
     "name": "stdout",
     "output_type": "stream",
     "text": [
      "['something for a']\n"
     ]
    }
   ],
   "source": [
    "from collections import defaultdict\n",
    "dict_of_lists = defaultdict(list)\n",
    "dict_of_lists['a'].append('something for a')\n",
    "print(dict_of_lists['a'])"
   ]
  },
  {
   "cell_type": "code",
   "execution_count": null,
   "id": "4a376322",
   "metadata": {},
   "outputs": [],
   "source": []
  }
 ],
 "metadata": {
  "kernelspec": {
   "display_name": "Python 3 (ipykernel)",
   "language": "python",
   "name": "python3"
  },
  "language_info": {
   "codemirror_mode": {
    "name": "ipython",
    "version": 3
   },
   "file_extension": ".py",
   "mimetype": "text/x-python",
   "name": "python",
   "nbconvert_exporter": "python",
   "pygments_lexer": "ipython3",
   "version": "3.9.12"
  }
 },
 "nbformat": 4,
 "nbformat_minor": 5
}
