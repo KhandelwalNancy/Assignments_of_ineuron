{
 "cells": [
  {
   "cell_type": "markdown",
   "id": "9a82fb51",
   "metadata": {},
   "source": [
    "## ASSIGNMENT 5"
   ]
  },
  {
   "cell_type": "code",
   "execution_count": null,
   "id": "d91c39dd",
   "metadata": {},
   "outputs": [],
   "source": [
    "1.What does an empty dictionary's code look like?\n",
    "\n",
    "Sol. An empty dictionary is represented by two empty curly brackets.\n",
    "d = {} or d = dict()"
   ]
  },
  {
   "cell_type": "code",
   "execution_count": 1,
   "id": "bed29651",
   "metadata": {},
   "outputs": [
    {
     "name": "stdout",
     "output_type": "stream",
     "text": [
      "{}\n",
      "0\n",
      "<class 'dict'>\n"
     ]
    }
   ],
   "source": [
    "d={}\n",
    "print(d)\n",
    "print(len(d))\n",
    "print(type(d))"
   ]
  },
  {
   "cell_type": "code",
   "execution_count": null,
   "id": "758d4f91",
   "metadata": {},
   "outputs": [],
   "source": [
    "2.What is the value of dictionary value with key 'foo' and the value 42 ?\n",
    "\n",
    "Sol. Dictionary is key and value pair repesented as {key : value}. So, we will write for abov eques. as {'foo' : 42}"
   ]
  },
  {
   "cell_type": "code",
   "execution_count": null,
   "id": "8c0fd35a",
   "metadata": {},
   "outputs": [],
   "source": [
    "3.What is the most significant distinction between a dictionary and a list?\n",
    "\n",
    "Sol.Dictionary is represented by {} where as list is represented by []. The Items stored in a dictionary are Unordered , \n",
    "while the items in a list are ordered.\n",
    "\n",
    "Lists are just like the arrays, declared in other languages. Lists need not be homogeneous always which makes it a most powerful\n",
    "tool in Python. A single list may contain DataTypes like Integers, Strings, as well as Objects. Lists are mutable, and hence,\n",
    "they can be altered even after their creation.\n",
    "\n",
    "Dictionary in Python on the other hand is an unordered collection of data values, used to store data values like a map, which\n",
    "unlike other Data Types that hold only single value as an element, Dictionary holds key:value pair. Key-value is provided in\n",
    "the dictionary to make it more optimized. Each key-value pair in a Dictionary is separated by a colon :, whereas each key \n",
    "is separated by a ‘comma’."
   ]
  },
  {
   "cell_type": "code",
   "execution_count": 5,
   "id": "f3cc7b09",
   "metadata": {},
   "outputs": [
    {
     "name": "stdout",
     "output_type": "stream",
     "text": [
      "{'Nancy': 11, 'Deepa': 18, 'Naval': 22}\n",
      "<class 'dict'>\n",
      "[30, 'Ankit', '19845']\n",
      "Ankit\n",
      "3\n",
      "<class 'list'>\n"
     ]
    }
   ],
   "source": [
    "D1 = {'Nancy' : 11 , 'Deepa' : 18 , 'Naval' : 22}\n",
    "print(D1)\n",
    "print(type(D1))\n",
    "\n",
    "L1 = [30, 'Ankit' , '19845']\n",
    "print(L1)\n",
    "print(L1[1])\n",
    "print(len(L1))\n",
    "print(type(L1))"
   ]
  },
  {
   "cell_type": "code",
   "execution_count": null,
   "id": "1965df1b",
   "metadata": {},
   "outputs": [],
   "source": [
    "4.What happens if you try to access spam ['foo'] if spam is {'bar':100} ?\n",
    "\n",
    "Sol. We will get a KeyError: 'foo' ."
   ]
  },
  {
   "cell_type": "code",
   "execution_count": 6,
   "id": "4f04ff7f",
   "metadata": {},
   "outputs": [
    {
     "ename": "KeyError",
     "evalue": "'foo'",
     "output_type": "error",
     "traceback": [
      "\u001b[1;31m---------------------------------------------------------------------------\u001b[0m",
      "\u001b[1;31mKeyError\u001b[0m                                  Traceback (most recent call last)",
      "Input \u001b[1;32mIn [6]\u001b[0m, in \u001b[0;36m<cell line: 2>\u001b[1;34m()\u001b[0m\n\u001b[0;32m      1\u001b[0m spam \u001b[38;5;241m=\u001b[39m {\u001b[38;5;124m'\u001b[39m\u001b[38;5;124mbar\u001b[39m\u001b[38;5;124m'\u001b[39m:\u001b[38;5;241m100\u001b[39m}\n\u001b[1;32m----> 2\u001b[0m \u001b[43mspam\u001b[49m\u001b[43m[\u001b[49m\u001b[38;5;124;43m'\u001b[39;49m\u001b[38;5;124;43mfoo\u001b[39;49m\u001b[38;5;124;43m'\u001b[39;49m\u001b[43m]\u001b[49m\n",
      "\u001b[1;31mKeyError\u001b[0m: 'foo'"
     ]
    }
   ],
   "source": [
    "spam = {'bar':100}\n",
    "spam['foo']"
   ]
  },
  {
   "cell_type": "code",
   "execution_count": null,
   "id": "04ee16a1",
   "metadata": {},
   "outputs": [],
   "source": [
    "5.If a dictionary is stored in spam,what is the difference between the expressions 'cat' in spam and 'cat' in spam.keys() ?\n",
    "\n",
    "Sol.There is no difference . The operator checks whether a value exits as a key in the dictionary or not.\n"
   ]
  },
  {
   "cell_type": "code",
   "execution_count": null,
   "id": "87b72eea",
   "metadata": {},
   "outputs": [],
   "source": [
    "6.If a dictionary is stored in spam,what is the difference between the expressions 'cat' in spam and 'cat' in spam.values() ?\n",
    "\n",
    "Sol. 'cat' in spam checks whether there is a 'cat' key in the dictionary, while 'cat' in spam.values() checks whether there is\n",
    "a value 'cat' for one of the keys in spam."
   ]
  },
  {
   "cell_type": "code",
   "execution_count": null,
   "id": "29723513",
   "metadata": {},
   "outputs": [],
   "source": [
    "7. .what is a shortcut for the following code ?\n",
    "if 'color' not in spam:\n",
    "    spam['color'] ='black'\n",
    "    \n",
    "Sol."
   ]
  },
  {
   "cell_type": "code",
   "execution_count": 14,
   "id": "844e86b5",
   "metadata": {},
   "outputs": [
    {
     "data": {
      "text/plain": [
       "'black'"
      ]
     },
     "execution_count": 14,
     "metadata": {},
     "output_type": "execute_result"
    }
   ],
   "source": [
    "if 'color' not in spam:\n",
    "    spam['color'] ='black'\n",
    "\n",
    "spam.setdefault('color','black')"
   ]
  },
  {
   "cell_type": "code",
   "execution_count": null,
   "id": "96a9fc9f",
   "metadata": {},
   "outputs": [],
   "source": [
    "8.How do you 'pretty print' dictionary values using which modules and function ?\n",
    "\n",
    "Sol.We can pretty print a dictionary using following functions:\n",
    "\n",
    "      a) by using pprint() function of pprint module. {pprint() function doesnot prettify nested dictionaries}\n",
    "      b) by using dumps() method of json module\n"
   ]
  },
  {
   "cell_type": "code",
   "execution_count": null,
   "id": "c57ae55b",
   "metadata": {},
   "outputs": [],
   "source": []
  },
  {
   "cell_type": "code",
   "execution_count": null,
   "id": "7bbebb18",
   "metadata": {},
   "outputs": [],
   "source": []
  }
 ],
 "metadata": {
  "kernelspec": {
   "display_name": "Python 3 (ipykernel)",
   "language": "python",
   "name": "python3"
  },
  "language_info": {
   "codemirror_mode": {
    "name": "ipython",
    "version": 3
   },
   "file_extension": ".py",
   "mimetype": "text/x-python",
   "name": "python",
   "nbconvert_exporter": "python",
   "pygments_lexer": "ipython3",
   "version": "3.9.12"
  }
 },
 "nbformat": 4,
 "nbformat_minor": 5
}
