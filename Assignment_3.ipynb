{
 "cells": [
  {
   "cell_type": "markdown",
   "id": "c8afa47a",
   "metadata": {},
   "source": [
    "## ASSIGNMENT 3"
   ]
  },
  {
   "cell_type": "code",
   "execution_count": null,
   "id": "c72dea25",
   "metadata": {},
   "outputs": [],
   "source": [
    "1. Why are functions advantageous to have in your programs?\n",
    "\n",
    "Sol. Advantages of functions are :-\n",
    "    \n",
    "    a) It reduces the need for duplication of code and chances of error.This makes programs shorter, easier to read,\n",
    "    and easier to update. \n",
    "    b) It divides a complex problem into simpler ones.\n",
    "    c) It helps in improving clarity of the code.\n",
    "    d) It helps in hiding information.\n",
    "    e) The main advantage of functions is code Reusability."
   ]
  },
  {
   "cell_type": "code",
   "execution_count": null,
   "id": "bbcf1f3a",
   "metadata": {},
   "outputs": [],
   "source": [
    "2. When does the code in a function run: when it's specified or when it's called?\n",
    "    \n",
    "Sol. The code in a function executes when the function is called, not when the function is specified. When a function is \"called\"\n",
    "the program \"leaves\" the current section of code and begins to execute the first line inside the function.\n"
   ]
  },
  {
   "cell_type": "code",
   "execution_count": 4,
   "id": "dca57524",
   "metadata": {},
   "outputs": [
    {
     "name": "stdout",
     "output_type": "stream",
     "text": [
      "My name is Rahul\n",
      "My name is Vicky\n"
     ]
    }
   ],
   "source": [
    "def name(value1):\n",
    "    print(\"My name is\" , value1)\n",
    "\n",
    "name(\"Rahul\")\n",
    "name(\"Vicky\")"
   ]
  },
  {
   "cell_type": "code",
   "execution_count": null,
   "id": "6ae3c94b",
   "metadata": {},
   "outputs": [],
   "source": [
    "3. What statement creates a function?\n",
    "\n",
    "Sol. The def keyword creates a function. To create a function , we write def followed by function name and parenthesis.\n",
    "\n",
    "For eg. def car_model()\n",
    "\n",
    "car_model() is name of the function and def helps in creating it."
   ]
  },
  {
   "cell_type": "code",
   "execution_count": null,
   "id": "77a76a45",
   "metadata": {},
   "outputs": [],
   "source": [
    "4. What is the difference between a function and a function call?\n",
    "\n",
    "Sol. A function is a block of code that does a particular operation and returns a result. It usually accepts inputs as parameters and returns a result. The parameters are not mandatory. \n",
    "\n",
    "    A function call is the code used to pass control to a function. Without a function call, the function will not be executed.\n",
    "    "
   ]
  },
  {
   "cell_type": "code",
   "execution_count": 7,
   "id": "1aa707cb",
   "metadata": {},
   "outputs": [
    {
     "data": {
      "text/plain": [
       "50.0"
      ]
     },
     "execution_count": 7,
     "metadata": {},
     "output_type": "execute_result"
    }
   ],
   "source": [
    "def divide_num(x):   # divide_num is the function\n",
    "    return 100/x\n",
    "\n",
    "divide_num(2)        # Here, we are calling the function"
   ]
  },
  {
   "cell_type": "code",
   "execution_count": null,
   "id": "5ca0620d",
   "metadata": {},
   "outputs": [],
   "source": [
    "5. How many global scopes are there in a Python program? How many local scopes?\n",
    "\n",
    "Sol. There is only 1 global scope and local scope can be created whenever a function is called.A variable which is outside\n",
    "the function and written in the main body of the Python code is a global variable. A variable created inside a function is a\n",
    "local variable and belongs to the local scope of that function, and can only be used inside that function.\n"
   ]
  },
  {
   "cell_type": "code",
   "execution_count": 11,
   "id": "76093854",
   "metadata": {},
   "outputs": [
    {
     "name": "stdout",
     "output_type": "stream",
     "text": [
      "200\n",
      "100\n"
     ]
    }
   ],
   "source": [
    "x=100    # global scope has global varible\n",
    "\n",
    "def inner():\n",
    "    x=200   #local scope has local variable which belongs to inner() function\n",
    "    \n",
    "    print(x)\n",
    "inner()\n",
    "\n",
    "print(x)"
   ]
  },
  {
   "cell_type": "code",
   "execution_count": null,
   "id": "f1bb48f2",
   "metadata": {},
   "outputs": [],
   "source": [
    "6. What happens to variables in a local scope when the function call returns?\n",
    "\n",
    "Sol. When a function returns, the local scope is destroyed, and all the variables in it are forgotten. A local variable \n",
    "becomes undefined after the function call completes."
   ]
  },
  {
   "cell_type": "code",
   "execution_count": null,
   "id": "fc61abb1",
   "metadata": {},
   "outputs": [],
   "source": []
  },
  {
   "cell_type": "code",
   "execution_count": null,
   "id": "0f024f0a",
   "metadata": {},
   "outputs": [],
   "source": [
    "7.What is the concept of a return value? Is it possible to have a return value in an expression?\n",
    "\n",
    "Sol: The Python return statement is a key component of functions and methods. We can use the return statement to make functions\n",
    "send Python objects back to the caller code. These objects are known as the function’s return value. A return value is the value\n",
    "that a function call evaluates to.\n",
    "Like any value, a return value can be used as part of an expression."
   ]
  },
  {
   "cell_type": "code",
   "execution_count": null,
   "id": "6207948e",
   "metadata": {},
   "outputs": [],
   "source": [
    "8. If a function does not have a return statement, what is the return value of a call to that function?\n",
    "\n",
    "Sol: If there is no return statement for a function, its return value is None. The function always returns None if explicit\n",
    "return is not written."
   ]
  },
  {
   "cell_type": "code",
   "execution_count": 17,
   "id": "8a6f1522",
   "metadata": {},
   "outputs": [],
   "source": [
    "def square_add():\n",
    "    \n",
    "    square_add()\n",
    "    "
   ]
  },
  {
   "cell_type": "code",
   "execution_count": null,
   "id": "2a5499b8",
   "metadata": {},
   "outputs": [],
   "source": [
    "9. How do you make a function variable refer to the global variable?\n",
    "\n",
    "Sol: A global statement will make a variable in a function refer to the global variable. If you want to refer to a global\n",
    "    variable in a function, you can use the global keyword to declare which variables are global."
   ]
  },
  {
   "cell_type": "code",
   "execution_count": 15,
   "id": "ef1922e8",
   "metadata": {},
   "outputs": [
    {
     "name": "stdout",
     "output_type": "stream",
     "text": [
      "30\n",
      "100\n"
     ]
    }
   ],
   "source": [
    "def square_add(a , b):\n",
    "    global c    #variable c defined inside the class but we use global keyword\n",
    "    c=100\n",
    "    return (a+b)\n",
    "\n",
    "print(square_add(20 , 10))\n",
    "\n",
    "print(c) # as c is global variable, we can call it outside the function."
   ]
  },
  {
   "cell_type": "code",
   "execution_count": null,
   "id": "43d2fb88",
   "metadata": {},
   "outputs": [],
   "source": [
    "10. What is the data type of None?\n",
    "\n",
    "Sol: The data type of None is NoneType."
   ]
  },
  {
   "cell_type": "code",
   "execution_count": null,
   "id": "dfb51b5d",
   "metadata": {},
   "outputs": [],
   "source": [
    "11. What does the sentence import areallyourpetsnamederic do?\n",
    "\n",
    "Sol: That import statement imports a module named areallyourpetsnamederic."
   ]
  },
  {
   "cell_type": "code",
   "execution_count": null,
   "id": "fe9afa5a",
   "metadata": {},
   "outputs": [],
   "source": [
    "12. If you had a bacon() feature in a spam module, what would you call it after importing spam?\n",
    "\n",
    "Sol: This function can be called with spam.bacon()."
   ]
  },
  {
   "cell_type": "code",
   "execution_count": null,
   "id": "dcdb87ba",
   "metadata": {},
   "outputs": [],
   "source": [
    "13. What can you do to save a programme from crashing if it encounters an error?\n",
    "\n",
    "Sol: We can place the line of code that might cause an error in a try clause and use except block to handle the error.\n"
   ]
  },
  {
   "cell_type": "code",
   "execution_count": 18,
   "id": "901f4b7a",
   "metadata": {},
   "outputs": [
    {
     "name": "stdout",
     "output_type": "stream",
     "text": [
      "An exception occurred\n"
     ]
    }
   ],
   "source": [
    "try:\n",
    "  print(z)\n",
    "except:\n",
    "  print(\"An exception occurred\") #we have not defined the variable z,so it gives output of the statement written in except block."
   ]
  },
  {
   "cell_type": "code",
   "execution_count": 19,
   "id": "66339d2a",
   "metadata": {},
   "outputs": [
    {
     "name": "stdout",
     "output_type": "stream",
     "text": [
      "100\n"
     ]
    }
   ],
   "source": [
    "try:\n",
    "  print(c)\n",
    "except:\n",
    "  print(\"An exception occurred\")"
   ]
  },
  {
   "cell_type": "code",
   "execution_count": 21,
   "id": "5c9f555a",
   "metadata": {},
   "outputs": [],
   "source": [
    "14. What is the purpose of the try clause? What is the purpose of the except clause?\n",
    "\n",
    "Sol:The code that could potentially cause an error goes in the try clause. The code that executes if an error happens goes \n",
    "    in the except clause."
   ]
  },
  {
   "cell_type": "code",
   "execution_count": 25,
   "id": "78d2c7f8",
   "metadata": {},
   "outputs": [
    {
     "name": "stdout",
     "output_type": "stream",
     "text": [
      "Variable z is not defined\n"
     ]
    }
   ],
   "source": [
    "c = 100\n",
    "try:\n",
    "  print(z)\n",
    "except NameError:\n",
    "  print(\"Variable z is not defined\")\n",
    "except:\n",
    "  print(\"Something else went wrong\") "
   ]
  },
  {
   "cell_type": "code",
   "execution_count": 30,
   "id": "9a426ef5",
   "metadata": {},
   "outputs": [
    {
     "name": "stdout",
     "output_type": "stream",
     "text": [
      "100\n"
     ]
    }
   ],
   "source": [
    "c = 100\n",
    "try:\n",
    "  print (c)\n",
    "except NameError:\n",
    "  print(\"Variable c is not defined\")\n",
    "except SyntaxError:\n",
    "  print(\"Something else went wrong\") "
   ]
  },
  {
   "cell_type": "code",
   "execution_count": null,
   "id": "28a1c7b6",
   "metadata": {},
   "outputs": [],
   "source": []
  }
 ],
 "metadata": {
  "kernelspec": {
   "display_name": "Python 3 (ipykernel)",
   "language": "python",
   "name": "python3"
  },
  "language_info": {
   "codemirror_mode": {
    "name": "ipython",
    "version": 3
   },
   "file_extension": ".py",
   "mimetype": "text/x-python",
   "name": "python",
   "nbconvert_exporter": "python",
   "pygments_lexer": "ipython3",
   "version": "3.9.12"
  }
 },
 "nbformat": 4,
 "nbformat_minor": 5
}
