{
 "cells": [
  {
   "cell_type": "markdown",
   "id": "42eb95be",
   "metadata": {},
   "source": [
    "## ASSIGNMENT 8"
   ]
  },
  {
   "cell_type": "code",
   "execution_count": null,
   "id": "5df0e308",
   "metadata": {},
   "outputs": [],
   "source": [
    "1. Is the Python Standard Library included with PyInputPlus?\n",
    "\n",
    "Sol: No, PyInputPlus is not a part of Python Standard Library, it needs to be installed explicitly using thecommand \n",
    "    !pip install PyInputPlus\n"
   ]
  },
  {
   "cell_type": "code",
   "execution_count": 1,
   "id": "a32659f0",
   "metadata": {
    "scrolled": true
   },
   "outputs": [
    {
     "name": "stdout",
     "output_type": "stream",
     "text": [
      "Collecting PyInputPlus\n",
      "  Downloading PyInputPlus-0.2.12.tar.gz (20 kB)\n",
      "  Installing build dependencies: started\n",
      "  Installing build dependencies: finished with status 'done'\n",
      "  Getting requirements to build wheel: started\n",
      "  Getting requirements to build wheel: finished with status 'done'\n",
      "    Preparing wheel metadata: started\n",
      "    Preparing wheel metadata: finished with status 'done'\n",
      "Collecting stdiomask>=0.0.3\n",
      "  Downloading stdiomask-0.0.6.tar.gz (3.6 kB)\n",
      "  Installing build dependencies: started\n",
      "  Installing build dependencies: finished with status 'done'\n",
      "  Getting requirements to build wheel: started\n",
      "  Getting requirements to build wheel: finished with status 'done'\n",
      "    Preparing wheel metadata: started\n",
      "    Preparing wheel metadata: finished with status 'done'\n",
      "Collecting pysimplevalidate>=0.2.7\n",
      "  Downloading PySimpleValidate-0.2.12.tar.gz (22 kB)\n",
      "  Installing build dependencies: started\n",
      "  Installing build dependencies: finished with status 'done'\n",
      "  Getting requirements to build wheel: started\n",
      "  Getting requirements to build wheel: finished with status 'done'\n",
      "    Preparing wheel metadata: started\n",
      "    Preparing wheel metadata: finished with status 'done'\n",
      "Building wheels for collected packages: PyInputPlus, pysimplevalidate, stdiomask\n",
      "  Building wheel for PyInputPlus (PEP 517): started\n",
      "  Building wheel for PyInputPlus (PEP 517): finished with status 'done'\n",
      "  Created wheel for PyInputPlus: filename=PyInputPlus-0.2.12-py3-none-any.whl size=11297 sha256=1af130433e84fa9dc97e31de0a36dfe4570dfce081bdee76d252bfdfca1dd93c\n",
      "  Stored in directory: c:\\users\\ankit_000\\appdata\\local\\pip\\cache\\wheels\\b4\\6e\\2f\\8a852732646cabec36c3fe8fc060ec5bea1c1be711432c47f7\n",
      "  Building wheel for pysimplevalidate (PEP 517): started\n",
      "  Building wheel for pysimplevalidate (PEP 517): finished with status 'done'\n",
      "  Created wheel for pysimplevalidate: filename=PySimpleValidate-0.2.12-py3-none-any.whl size=16175 sha256=47e7cb6430c18aa839125e312af1c1e38d55b90e44dcd448b75b839a5e7218e6\n",
      "  Stored in directory: c:\\users\\ankit_000\\appdata\\local\\pip\\cache\\wheels\\b1\\44\\4a\\043a4f4c4512c7cdfb0c2b8408b18b0de5fd45cac57f5dfa02\n",
      "  Building wheel for stdiomask (PEP 517): started\n",
      "  Building wheel for stdiomask (PEP 517): finished with status 'done'\n",
      "  Created wheel for stdiomask: filename=stdiomask-0.0.6-py3-none-any.whl size=3306 sha256=e124a4aafba9c58c539fc722c0be0e303d78ac9b775d9f5a03a66b3d251d70ae\n",
      "  Stored in directory: c:\\users\\ankit_000\\appdata\\local\\pip\\cache\\wheels\\1d\\aa\\47\\f41f117d22c5de82e95d9342f44da578c80610739a2d5ebec4\n",
      "Successfully built PyInputPlus pysimplevalidate stdiomask\n",
      "Installing collected packages: stdiomask, pysimplevalidate, PyInputPlus\n",
      "Successfully installed PyInputPlus-0.2.12 pysimplevalidate-0.2.12 stdiomask-0.0.6\n"
     ]
    }
   ],
   "source": [
    "!pip install PyInputPlus"
   ]
  },
  {
   "cell_type": "code",
   "execution_count": null,
   "id": "1a6d4080",
   "metadata": {},
   "outputs": [],
   "source": [
    "2. Why is PyInputPlus commonly imported with import pyinputplus as pypi?\n",
    "\n",
    "Sol: You can import the module with import pyinputplus as pypi so that you can enter a shorter name when calling the module's \n",
    "    functions."
   ]
  },
  {
   "cell_type": "code",
   "execution_count": 2,
   "id": "eb299540",
   "metadata": {},
   "outputs": [],
   "source": [
    "import pyinputplus as pypi"
   ]
  },
  {
   "cell_type": "code",
   "execution_count": null,
   "id": "19aaa59f",
   "metadata": {},
   "outputs": [],
   "source": [
    "3. How do you distinguish between inputInt() and inputFloat()?\n",
    "\n",
    "Sol: inputInt() function Accepts an integer value. This also takes additional parameters min, max, greaterThan and lessThan\n",
    "    for bounds. And it always returns an int.\n",
    "\n",
    "Whereas inputFloat() function Accepts a floating-point numeric value. this also takes additional min, max, greaterThan and\n",
    "lessThan parameters. and always returns a float."
   ]
  },
  {
   "cell_type": "code",
   "execution_count": 4,
   "id": "17894340",
   "metadata": {},
   "outputs": [
    {
     "name": "stdout",
     "output_type": "stream",
     "text": [
      "Enter an Integer... gyfyu\n",
      "'gyfyu' is not an integer.\n",
      "Enter an Integer... ghg\n",
      "'ghg' is not an integer.\n",
      "Enter an Integer... vghf\n",
      "'vghf' is not an integer.\n",
      "0\n"
     ]
    }
   ],
   "source": [
    "inp = pypi.inputInt(prompt = \"Enter an Integer... \", \n",
    "                    default = 0, limit = 3)\n",
    "  \n",
    "print(inp)"
   ]
  },
  {
   "cell_type": "code",
   "execution_count": 5,
   "id": "cf924f41",
   "metadata": {},
   "outputs": [
    {
     "name": "stdout",
     "output_type": "stream",
     "text": [
      "Enter Float value... 45\n",
      "45.0\n"
     ]
    }
   ],
   "source": [
    "inp2 = pypi.inputFloat(prompt = \"Enter Float value... \", \n",
    "                    default = 0, limit = 3)\n",
    "  \n",
    "print(inp2)"
   ]
  },
  {
   "cell_type": "code",
   "execution_count": 6,
   "id": "d0b8c8d3",
   "metadata": {},
   "outputs": [
    {
     "name": "stdout",
     "output_type": "stream",
     "text": [
      "Enter an Integer... 4546\n",
      "4546\n"
     ]
    }
   ],
   "source": [
    "inp1 = pypi.inputInt(prompt = \"Enter an Integer... \", \n",
    "                    default = 0, limit = 3)\n",
    "  \n",
    "print(inp1)"
   ]
  },
  {
   "cell_type": "code",
   "execution_count": 9,
   "id": "7b1a584c",
   "metadata": {},
   "outputs": [],
   "source": [
    "4. Using PyInputPlus, how do you ensure that the user enters a whole number between 0 and 99?\n",
    "\n",
    "Sol: PyInputPlus module provides a function called as inputInt() which only returns only integer values. \n",
    "    Inorder to restrict the input between 0 and 99, we use parameters like min & max to ensure that user enters the values\n",
    "   between the defined range only."
   ]
  },
  {
   "cell_type": "code",
   "execution_count": 10,
   "id": "7c139502",
   "metadata": {},
   "outputs": [
    {
     "name": "stdout",
     "output_type": "stream",
     "text": [
      "Enter a number: 120\n",
      "Number must be at maximum 100.\n",
      "Enter a number: 50\n",
      "50\n"
     ]
    }
   ],
   "source": [
    "wholenumber = pypi.inputInt(prompt='Enter a number: ', min=0, max=100) \n",
    "print(wholenumber)"
   ]
  },
  {
   "cell_type": "code",
   "execution_count": null,
   "id": "98066299",
   "metadata": {},
   "outputs": [],
   "source": [
    "5. What is transferred to the keyword arguments allowRegexes and blockRegexes?\n",
    "\n",
    "Sol: We can use allowRegexes and blockRegexes keyword arguments to take list of regular expression strings to determine \n",
    "    what the pyinputplus function will reject or accept valid input."
   ]
  },
  {
   "cell_type": "code",
   "execution_count": null,
   "id": "c7683f64",
   "metadata": {},
   "outputs": [],
   "source": [
    "6. If a blank input is entered three times, what does inputStr(limit=3) do?\n",
    "\n",
    "Sol: The statement inputStr(limit=3) will throw two exceptions ValidationException and RetryLimitException. \n",
    "    The first exception is thrown because blank values are not allowed by inputStr() function by default. If we want to consider\n",
    "    blank values as valid input, we have to set blank=True.\n",
    "\n",
    "The second exception is occured because we have reached the max limit we have specified by using limit parameter. \n",
    "Inorder to avoid this exception we can use default parameter to return a default value when max limit is reached."
   ]
  },
  {
   "cell_type": "code",
   "execution_count": null,
   "id": "7922eb7f",
   "metadata": {},
   "outputs": [],
   "source": [
    "Below code is executed to show both the errors."
   ]
  },
  {
   "cell_type": "code",
   "execution_count": 15,
   "id": "2f022c7e",
   "metadata": {},
   "outputs": [
    {
     "name": "stdout",
     "output_type": "stream",
     "text": [
      "\n",
      "Blank values are not allowed.\n",
      "\n",
      "Blank values are not allowed.\n",
      "\n",
      "Blank values are not allowed.\n"
     ]
    },
    {
     "ename": "RetryLimitException",
     "evalue": "",
     "output_type": "error",
     "traceback": [
      "\u001b[1;31m---------------------------------------------------------------------------\u001b[0m",
      "\u001b[1;31mValidationException\u001b[0m                       Traceback (most recent call last)",
      "File \u001b[1;32m~\\anaconda\\lib\\site-packages\\pyinputplus\\__init__.py:167\u001b[0m, in \u001b[0;36m_genericInput\u001b[1;34m(prompt, default, timeout, limit, applyFunc, validationFunc, postValidateApplyFunc, passwordMask)\u001b[0m\n\u001b[0;32m    166\u001b[0m \u001b[38;5;28;01mtry\u001b[39;00m:\n\u001b[1;32m--> 167\u001b[0m     possibleNewUserInput \u001b[38;5;241m=\u001b[39m \u001b[43mvalidationFunc\u001b[49m\u001b[43m(\u001b[49m\n\u001b[0;32m    168\u001b[0m \u001b[43m        \u001b[49m\u001b[43muserInput\u001b[49m\n\u001b[0;32m    169\u001b[0m \u001b[43m    \u001b[49m\u001b[43m)\u001b[49m  \u001b[38;5;66;03m# If validation fails, this function will raise an exception. Returns an updated value to use as user input (e.g. stripped of whitespace, etc.)\u001b[39;00m\n\u001b[0;32m    170\u001b[0m     \u001b[38;5;28;01mif\u001b[39;00m possibleNewUserInput \u001b[38;5;129;01mis\u001b[39;00m \u001b[38;5;129;01mnot\u001b[39;00m \u001b[38;5;28;01mNone\u001b[39;00m:\n",
      "File \u001b[1;32m~\\anaconda\\lib\\site-packages\\pyinputplus\\__init__.py:243\u001b[0m, in \u001b[0;36minputStr.<locals>.<lambda>\u001b[1;34m(value)\u001b[0m\n\u001b[0;32m    241\u001b[0m pysv\u001b[38;5;241m.\u001b[39m_validateGenericParameters(blank, strip, allowRegexes, blockRegexes)\n\u001b[1;32m--> 243\u001b[0m validationFunc \u001b[38;5;241m=\u001b[39m \u001b[38;5;28;01mlambda\u001b[39;00m value: \u001b[43mpysv\u001b[49m\u001b[38;5;241;43m.\u001b[39;49m\u001b[43m_prevalidationCheck\u001b[49m\u001b[43m(\u001b[49m\n\u001b[0;32m    244\u001b[0m \u001b[43m    \u001b[49m\u001b[43mvalue\u001b[49m\u001b[43m,\u001b[49m\u001b[43m \u001b[49m\u001b[43mblank\u001b[49m\u001b[38;5;241;43m=\u001b[39;49m\u001b[43mblank\u001b[49m\u001b[43m,\u001b[49m\u001b[43m \u001b[49m\u001b[43mstrip\u001b[49m\u001b[38;5;241;43m=\u001b[39;49m\u001b[43mstrip\u001b[49m\u001b[43m,\u001b[49m\u001b[43m \u001b[49m\u001b[43mallowRegexes\u001b[49m\u001b[38;5;241;43m=\u001b[39;49m\u001b[43mallowRegexes\u001b[49m\u001b[43m,\u001b[49m\u001b[43m \u001b[49m\u001b[43mblockRegexes\u001b[49m\u001b[38;5;241;43m=\u001b[39;49m\u001b[43mblockRegexes\u001b[49m\u001b[43m,\u001b[49m\u001b[43m \u001b[49m\u001b[43mexcMsg\u001b[49m\u001b[38;5;241;43m=\u001b[39;49m\u001b[38;5;28;43;01mNone\u001b[39;49;00m\u001b[43m,\u001b[49m\n\u001b[0;32m    245\u001b[0m \u001b[43m\u001b[49m\u001b[43m)\u001b[49m[\u001b[38;5;241m1\u001b[39m]\n\u001b[0;32m    247\u001b[0m \u001b[38;5;28;01mreturn\u001b[39;00m _genericInput(\n\u001b[0;32m    248\u001b[0m     prompt\u001b[38;5;241m=\u001b[39mprompt,\n\u001b[0;32m    249\u001b[0m     default\u001b[38;5;241m=\u001b[39mdefault,\n\u001b[1;32m   (...)\u001b[0m\n\u001b[0;32m    254\u001b[0m     validationFunc\u001b[38;5;241m=\u001b[39mvalidationFunc,\n\u001b[0;32m    255\u001b[0m )\n",
      "File \u001b[1;32m~\\anaconda\\lib\\site-packages\\pysimplevalidate\\__init__.py:250\u001b[0m, in \u001b[0;36m_prevalidationCheck\u001b[1;34m(value, blank, strip, allowRegexes, blockRegexes, excMsg)\u001b[0m\n\u001b[0;32m    248\u001b[0m \u001b[38;5;28;01mif\u001b[39;00m \u001b[38;5;129;01mnot\u001b[39;00m blank \u001b[38;5;129;01mand\u001b[39;00m value \u001b[38;5;241m==\u001b[39m \u001b[38;5;124m\"\u001b[39m\u001b[38;5;124m\"\u001b[39m:\n\u001b[0;32m    249\u001b[0m     \u001b[38;5;66;03m# value is blank but blanks aren't allowed.\u001b[39;00m\n\u001b[1;32m--> 250\u001b[0m     \u001b[43m_raiseValidationException\u001b[49m\u001b[43m(\u001b[49m\u001b[43m_\u001b[49m\u001b[43m(\u001b[49m\u001b[38;5;124;43m\"\u001b[39;49m\u001b[38;5;124;43mBlank values are not allowed.\u001b[39;49m\u001b[38;5;124;43m\"\u001b[39;49m\u001b[43m)\u001b[49m\u001b[43m,\u001b[49m\u001b[43m \u001b[49m\u001b[43mexcMsg\u001b[49m\u001b[43m)\u001b[49m\n\u001b[0;32m    251\u001b[0m \u001b[38;5;28;01melif\u001b[39;00m blank \u001b[38;5;129;01mand\u001b[39;00m value \u001b[38;5;241m==\u001b[39m \u001b[38;5;124m\"\u001b[39m\u001b[38;5;124m\"\u001b[39m:\n",
      "File \u001b[1;32m~\\anaconda\\lib\\site-packages\\pysimplevalidate\\__init__.py:222\u001b[0m, in \u001b[0;36m_raiseValidationException\u001b[1;34m(standardExcMsg, customExcMsg)\u001b[0m\n\u001b[0;32m    221\u001b[0m \u001b[38;5;28;01mif\u001b[39;00m customExcMsg \u001b[38;5;129;01mis\u001b[39;00m \u001b[38;5;28;01mNone\u001b[39;00m:\n\u001b[1;32m--> 222\u001b[0m     \u001b[38;5;28;01mraise\u001b[39;00m ValidationException(\u001b[38;5;28mstr\u001b[39m(standardExcMsg))\n\u001b[0;32m    223\u001b[0m \u001b[38;5;28;01melse\u001b[39;00m:\n",
      "\u001b[1;31mValidationException\u001b[0m: Blank values are not allowed.",
      "\nDuring handling of the above exception, another exception occurred:\n",
      "\u001b[1;31mRetryLimitException\u001b[0m                       Traceback (most recent call last)",
      "Input \u001b[1;32mIn [15]\u001b[0m, in \u001b[0;36m<cell line: 1>\u001b[1;34m()\u001b[0m\n\u001b[1;32m----> 1\u001b[0m string \u001b[38;5;241m=\u001b[39m \u001b[43mpypi\u001b[49m\u001b[38;5;241;43m.\u001b[39;49m\u001b[43minputStr\u001b[49m\u001b[43m(\u001b[49m\u001b[43mlimit\u001b[49m\u001b[38;5;241;43m=\u001b[39;49m\u001b[38;5;241;43m3\u001b[39;49m\u001b[43m)\u001b[49m\n\u001b[0;32m      3\u001b[0m \u001b[38;5;28mprint\u001b[39m(string)\n",
      "File \u001b[1;32m~\\anaconda\\lib\\site-packages\\pyinputplus\\__init__.py:247\u001b[0m, in \u001b[0;36minputStr\u001b[1;34m(prompt, default, blank, timeout, limit, strip, allowRegexes, blockRegexes, applyFunc, postValidateApplyFunc)\u001b[0m\n\u001b[0;32m    241\u001b[0m pysv\u001b[38;5;241m.\u001b[39m_validateGenericParameters(blank, strip, allowRegexes, blockRegexes)\n\u001b[0;32m    243\u001b[0m validationFunc \u001b[38;5;241m=\u001b[39m \u001b[38;5;28;01mlambda\u001b[39;00m value: pysv\u001b[38;5;241m.\u001b[39m_prevalidationCheck(\n\u001b[0;32m    244\u001b[0m     value, blank\u001b[38;5;241m=\u001b[39mblank, strip\u001b[38;5;241m=\u001b[39mstrip, allowRegexes\u001b[38;5;241m=\u001b[39mallowRegexes, blockRegexes\u001b[38;5;241m=\u001b[39mblockRegexes, excMsg\u001b[38;5;241m=\u001b[39m\u001b[38;5;28;01mNone\u001b[39;00m,\n\u001b[0;32m    245\u001b[0m )[\u001b[38;5;241m1\u001b[39m]\n\u001b[1;32m--> 247\u001b[0m \u001b[38;5;28;01mreturn\u001b[39;00m \u001b[43m_genericInput\u001b[49m\u001b[43m(\u001b[49m\n\u001b[0;32m    248\u001b[0m \u001b[43m    \u001b[49m\u001b[43mprompt\u001b[49m\u001b[38;5;241;43m=\u001b[39;49m\u001b[43mprompt\u001b[49m\u001b[43m,\u001b[49m\n\u001b[0;32m    249\u001b[0m \u001b[43m    \u001b[49m\u001b[43mdefault\u001b[49m\u001b[38;5;241;43m=\u001b[39;49m\u001b[43mdefault\u001b[49m\u001b[43m,\u001b[49m\n\u001b[0;32m    250\u001b[0m \u001b[43m    \u001b[49m\u001b[43mtimeout\u001b[49m\u001b[38;5;241;43m=\u001b[39;49m\u001b[43mtimeout\u001b[49m\u001b[43m,\u001b[49m\n\u001b[0;32m    251\u001b[0m \u001b[43m    \u001b[49m\u001b[43mlimit\u001b[49m\u001b[38;5;241;43m=\u001b[39;49m\u001b[43mlimit\u001b[49m\u001b[43m,\u001b[49m\n\u001b[0;32m    252\u001b[0m \u001b[43m    \u001b[49m\u001b[43mapplyFunc\u001b[49m\u001b[38;5;241;43m=\u001b[39;49m\u001b[43mapplyFunc\u001b[49m\u001b[43m,\u001b[49m\n\u001b[0;32m    253\u001b[0m \u001b[43m    \u001b[49m\u001b[43mpostValidateApplyFunc\u001b[49m\u001b[38;5;241;43m=\u001b[39;49m\u001b[43mpostValidateApplyFunc\u001b[49m\u001b[43m,\u001b[49m\n\u001b[0;32m    254\u001b[0m \u001b[43m    \u001b[49m\u001b[43mvalidationFunc\u001b[49m\u001b[38;5;241;43m=\u001b[39;49m\u001b[43mvalidationFunc\u001b[49m\u001b[43m,\u001b[49m\n\u001b[0;32m    255\u001b[0m \u001b[43m\u001b[49m\u001b[43m)\u001b[49m\n",
      "File \u001b[1;32m~\\anaconda\\lib\\site-packages\\pyinputplus\\__init__.py:188\u001b[0m, in \u001b[0;36m_genericInput\u001b[1;34m(prompt, default, timeout, limit, applyFunc, validationFunc, postValidateApplyFunc, passwordMask)\u001b[0m\n\u001b[0;32m    185\u001b[0m         \u001b[38;5;28;01mreturn\u001b[39;00m default\n\u001b[0;32m    186\u001b[0m     \u001b[38;5;28;01melse\u001b[39;00m:\n\u001b[0;32m    187\u001b[0m         \u001b[38;5;66;03m# If there is no default, then raise the timeout/limit exception.\u001b[39;00m\n\u001b[1;32m--> 188\u001b[0m         \u001b[38;5;28;01mraise\u001b[39;00m limitOrTimeoutException\n\u001b[0;32m    189\u001b[0m \u001b[38;5;28;01melse\u001b[39;00m:\n\u001b[0;32m    190\u001b[0m     \u001b[38;5;66;03m# If there was no timeout/limit exceeded, let the user enter input again.\u001b[39;00m\n\u001b[0;32m    191\u001b[0m     \u001b[38;5;28;01mcontinue\u001b[39;00m\n",
      "\u001b[1;31mRetryLimitException\u001b[0m: "
     ]
    }
   ],
   "source": [
    "string = pypi.inputStr(limit=3)\n",
    "  \n",
    "print(string)"
   ]
  },
  {
   "cell_type": "code",
   "execution_count": 17,
   "id": "f62e2590",
   "metadata": {},
   "outputs": [
    {
     "name": "stdout",
     "output_type": "stream",
     "text": [
      "Enter a string... \n",
      "Blank values are not allowed.\n",
      "Enter a string... \n",
      "Blank values are not allowed.\n",
      "Enter a string... \n",
      "Blank values are not allowed.\n",
      "Could you please enter a string\n"
     ]
    }
   ],
   "source": [
    "string = pypi.inputStr(prompt=\"Enter a string... \", \n",
    "                    limit=3 , default = 'Could you please enter a string')\n",
    "  \n",
    "print(string)"
   ]
  },
  {
   "cell_type": "code",
   "execution_count": 18,
   "id": "d8508cb2",
   "metadata": {},
   "outputs": [
    {
     "name": "stdout",
     "output_type": "stream",
     "text": [
      "Enter a string... \n",
      "\n"
     ]
    }
   ],
   "source": [
    "string = pypi.inputStr(prompt=\"Enter a string... \", \n",
    "                    blank=True ,limit=3 , default = 'Could you please enter a string')\n",
    "  \n",
    "print(string)"
   ]
  },
  {
   "cell_type": "code",
   "execution_count": null,
   "id": "092ef275",
   "metadata": {},
   "outputs": [],
   "source": [
    "7. If blank input is entered three times, what does inputStr(limit=3, default='hello') do?\n",
    "\n",
    "Sol: Since the default parameter is set to hello , fter blank input is entered three times instead of raising \n",
    "    RetryLimitException exception, the function will return hello as response to the calling function."
   ]
  },
  {
   "cell_type": "code",
   "execution_count": 19,
   "id": "5bdf834b",
   "metadata": {},
   "outputs": [
    {
     "name": "stdout",
     "output_type": "stream",
     "text": [
      "Enter a string \n",
      "Blank values are not allowed.\n",
      "Enter a string \n",
      "Blank values are not allowed.\n",
      "Enter a string \n",
      "Blank values are not allowed.\n",
      "hello\n"
     ]
    }
   ],
   "source": [
    "string1 = pypi.inputStr(prompt=\"Enter a string \", \n",
    "                    limit=3 , default = 'hello')\n",
    "  \n",
    "print(string1)"
   ]
  },
  {
   "cell_type": "code",
   "execution_count": null,
   "id": "e81693b2",
   "metadata": {},
   "outputs": [],
   "source": []
  }
 ],
 "metadata": {
  "kernelspec": {
   "display_name": "Python 3 (ipykernel)",
   "language": "python",
   "name": "python3"
  },
  "language_info": {
   "codemirror_mode": {
    "name": "ipython",
    "version": 3
   },
   "file_extension": ".py",
   "mimetype": "text/x-python",
   "name": "python",
   "nbconvert_exporter": "python",
   "pygments_lexer": "ipython3",
   "version": "3.9.12"
  }
 },
 "nbformat": 4,
 "nbformat_minor": 5
}
