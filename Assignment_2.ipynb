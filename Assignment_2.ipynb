{
 "cells": [
  {
   "cell_type": "markdown",
   "id": "e34babcf",
   "metadata": {},
   "source": [
    "# #ASSIGNMENT 2"
   ]
  },
  {
   "cell_type": "code",
   "execution_count": null,
   "id": "b73fbee1",
   "metadata": {},
   "outputs": [],
   "source": [
    "1.What are the two values of the Boolean data type? How do you write them?\n",
    "\n",
    "Sol. The two Boolean data type are True and False. We can evaluate an expression in Python and can get any of the two values.\n",
    "The datay type for True and False is bool which is an inbuilt function in python.\n",
    "It is written as first letter Capital with rest of the letters in lower case.\n"
   ]
  },
  {
   "cell_type": "code",
   "execution_count": 1,
   "id": "22e97723",
   "metadata": {},
   "outputs": [
    {
     "name": "stdout",
     "output_type": "stream",
     "text": [
      "<class 'bool'> True\n",
      "<class 'bool'> False\n"
     ]
    }
   ],
   "source": [
    "a = True\n",
    "b = False\n",
    "print (type(a) , a)\n",
    "print(type(b), b)"
   ]
  },
  {
   "cell_type": "code",
   "execution_count": null,
   "id": "2d96d944",
   "metadata": {},
   "outputs": [],
   "source": [
    "2. What are the three different types of Boolean operators?\n",
    "\n",
    "Sol. The three basic boolean operators are: AND, OR, and NOT . When any of this operator is used and satisfies the condition , \n",
    "    it will give the result as True or False."
   ]
  },
  {
   "cell_type": "code",
   "execution_count": 5,
   "id": "f9358793",
   "metadata": {},
   "outputs": [
    {
     "name": "stdout",
     "output_type": "stream",
     "text": [
      "True\n",
      "True\n",
      "False\n"
     ]
    }
   ],
   "source": [
    "a = 20\n",
    "b = 30\n",
    "print(a>10 and b<50) #example of boolean AND\n",
    "print(a>50 or b<50) #example of boolean OR\n",
    "print(not a>10) #example of boolean NOT"
   ]
  },
  {
   "cell_type": "markdown",
   "id": "4f8337a6",
   "metadata": {},
   "source": [
    "3. Make a list of each Boolean operator's truth tables\n",
    "(i.e. every possible combination of Boolean values for the operator and what it evaluate ).\n",
    "\n",
    "Sol. The Truth tables for the boolean tables are as follows:\n",
    "\n",
    "Truth Table for \"and\" operator:\n",
    "\n",
    "True and True --> True\n",
    "True and False --> False\n",
    "False and True --> False\n",
    "False and False --> False\n",
    "\n",
    "Truth Table for \"or\" operator:\n",
    "\n",
    "True or True --> True\n",
    "True or False --> True\n",
    "False or True --> True\n",
    "False or False --> False\n",
    "\n",
    "Truth Table for \"not\" operator:\n",
    "\n",
    "True not --> False False not --> True"
   ]
  },
  {
   "cell_type": "code",
   "execution_count": null,
   "id": "4e959262",
   "metadata": {},
   "outputs": [],
   "source": [
    "4. What are the values of the following expressions?\n",
    "(5 > 4) and (3 == 5)\n",
    "not (5 > 4)\n",
    "(5 > 4) or (3 == 5)\n",
    "not ((5 > 4) or (3 == 5))\n",
    "(True and True) and (True == False)\n",
    "(not False) or (not True)\n",
    "\n",
    "\n",
    "Sol: Executing the code:"
   ]
  },
  {
   "cell_type": "code",
   "execution_count": 7,
   "id": "8e990ac2",
   "metadata": {},
   "outputs": [
    {
     "name": "stdout",
     "output_type": "stream",
     "text": [
      "False\n",
      "False\n",
      "True\n",
      "False\n",
      "False\n",
      "True\n"
     ]
    }
   ],
   "source": [
    "print((5 > 4) and (3 == 5))\n",
    "print(not (5 > 4))\n",
    "print((5 > 4) or (3 == 5))\n",
    "print(not ((5 > 4) or (3 == 5)))\n",
    "print((True and True) and (True == False))\n",
    "print((not False) or (not True))\n"
   ]
  },
  {
   "cell_type": "code",
   "execution_count": null,
   "id": "85797b07",
   "metadata": {},
   "outputs": [],
   "source": [
    "5. What are the six comparison operators?\n",
    "\n",
    "Sol.The Six Comparision Operators available in python are:\n",
    "== , != , < , > , <= , =>"
   ]
  },
  {
   "cell_type": "code",
   "execution_count": null,
   "id": "94600881",
   "metadata": {},
   "outputs": [],
   "source": [
    "6. How do you tell the difference between the equal to and assignment operators?Describe a condition and when you would use one.\n",
    "\n",
    "Sol. Equal to == operator gives a value True or False boolean value after doing the comparison where as assignment operator = ,\n",
    "assigns value to a variable.\n",
    "\n"
   ]
  },
  {
   "cell_type": "code",
   "execution_count": 8,
   "id": "2fabedca",
   "metadata": {},
   "outputs": [
    {
     "name": "stdout",
     "output_type": "stream",
     "text": [
      "False\n"
     ]
    }
   ],
   "source": [
    "a=10 # value is assigned to variable a .(assignment operator is used)\n",
    "print(a==20) #here, it evaluates by comparing the expression and gives us the desired bool value.(equal to operator is used)"
   ]
  },
  {
   "cell_type": "code",
   "execution_count": null,
   "id": "df996021",
   "metadata": {},
   "outputs": [],
   "source": [
    "7. Identify the three blocks in this code:\n",
    "spam = 0\n",
    "if spam == 10:\n",
    "print('eggs')\n",
    "if spam > 5:\n",
    "print('bacon')\n",
    "else:\n",
    "print('ham')\n",
    "print('spam')\n",
    "print('spam')\n",
    "\n",
    "\n",
    "Sol. A Python program is constructed from blocks of code. A block is a piece of Python program text that is executed as a unit.\n",
    "The following are blocks: a module, a function body, and a class defination.\n",
    "    \n",
    "    Our output will be:\n",
    "        ham\n",
    "        spam\n",
    "        spam\n",
    "        \n",
    "    Because , our both if conditions are not satisfied , so it will execute else block."
   ]
  },
  {
   "cell_type": "code",
   "execution_count": 9,
   "id": "84bef092",
   "metadata": {},
   "outputs": [
    {
     "name": "stdout",
     "output_type": "stream",
     "text": [
      "ham\n",
      "spam\n",
      "spam\n"
     ]
    }
   ],
   "source": [
    "spam = 0\n",
    "if spam == 10:\n",
    "    print('eggs')  #1st block of code\n",
    "if spam > 5:\n",
    "    print('bacon') #2nd block of code\n",
    "else:\n",
    "    print('ham') #3rd block of code\n",
    "    print('spam')\n",
    "    print('spam')"
   ]
  },
  {
   "cell_type": "code",
   "execution_count": null,
   "id": "d2341c66",
   "metadata": {},
   "outputs": [],
   "source": [
    "8. Write code that prints Hello if 1 is stored in spam, prints Howdy if 2 is stored in spam,and prints Greetings!\n",
    "if anything else is stored in spam.\n",
    "\n",
    "Sol."
   ]
  },
  {
   "cell_type": "code",
   "execution_count": 15,
   "id": "b7320409",
   "metadata": {},
   "outputs": [
    {
     "name": "stdout",
     "output_type": "stream",
     "text": [
      "Howdy\n",
      "Hello\n",
      "Greetings\n"
     ]
    }
   ],
   "source": [
    "def spam(value):\n",
    "    if value ==1:\n",
    "        print(\"Hello\")\n",
    "    elif value ==2:\n",
    "        print(\"Howdy\")\n",
    "    else:\n",
    "        print(\"Greetings\")\n",
    "        \n",
    "spam(2)\n",
    "spam(1)\n",
    "spam(5)"
   ]
  },
  {
   "cell_type": "code",
   "execution_count": null,
   "id": "30b64c81",
   "metadata": {},
   "outputs": [],
   "source": [
    "9.If your programme is stuck in an endless loop, what keys you’ll press?\n",
    "\n",
    "Sol. To stop a program stuck in an infinite loop, we press Ctrl-c."
   ]
  },
  {
   "cell_type": "code",
   "execution_count": null,
   "id": "e889317b",
   "metadata": {},
   "outputs": [],
   "source": [
    "10. How can you tell the difference between break and continue?\n",
    "\n",
    "Sol.Break statement will break or stop to go in the loop , run outside the loop and gives us the output\n",
    "whereas continue will again go back to the code,and start loop again from the start.\n",
    "    \n",
    "    "
   ]
  },
  {
   "cell_type": "code",
   "execution_count": 21,
   "id": "7aa54c43",
   "metadata": {},
   "outputs": [
    {
     "name": "stdout",
     "output_type": "stream",
     "text": [
      "2\n",
      "Finish\n"
     ]
    }
   ],
   "source": [
    "l= [2,8,10,6]\n",
    "for i in l:\n",
    "    if i == 8:\n",
    "        break\n",
    "    print(i)\n",
    "print(\"Finish\")\n",
    "    "
   ]
  },
  {
   "cell_type": "code",
   "execution_count": 22,
   "id": "138b68dd",
   "metadata": {},
   "outputs": [
    {
     "name": "stdout",
     "output_type": "stream",
     "text": [
      "2\n",
      "10\n",
      "6\n",
      "Finish\n"
     ]
    }
   ],
   "source": [
    "l= [2,8,10,6]\n",
    "for i in l:\n",
    "    if i == 8:\n",
    "        continue\n",
    "    print(i)\n",
    "print(\"Finish\")"
   ]
  },
  {
   "cell_type": "code",
   "execution_count": null,
   "id": "2ed1d379",
   "metadata": {},
   "outputs": [],
   "source": [
    "11. In a for loop, what is the difference between range(10), range(0, 10), and range(0, 10, 1)?\n",
    "\n",
    "Sol. range(10) means it go till number 9 in sequence (excluding 10)\n",
    "     range(0 , 10) means loop will begin sequence of numbers from 0 to 9(only 10 numbers)\n",
    "     range(0 , 10 , 1) means loop begins from 0 to 9 with a leap of 1 digit.\n",
    "        \n",
    "In this , for loop will give same output . But, we change to range(5,10) and range(0, 10 ,2) Our output will vary."
   ]
  },
  {
   "cell_type": "code",
   "execution_count": 23,
   "id": "54179cb6",
   "metadata": {},
   "outputs": [
    {
     "name": "stdout",
     "output_type": "stream",
     "text": [
      "0\n",
      "1\n",
      "2\n",
      "3\n",
      "4\n",
      "5\n",
      "6\n",
      "7\n",
      "8\n",
      "9\n"
     ]
    }
   ],
   "source": [
    "x = range(10)\n",
    "for i in x:\n",
    "    print(i)"
   ]
  },
  {
   "cell_type": "code",
   "execution_count": 29,
   "id": "ac2b2ea2",
   "metadata": {},
   "outputs": [
    {
     "name": "stdout",
     "output_type": "stream",
     "text": [
      "5\n",
      "6\n",
      "7\n",
      "8\n",
      "9\n"
     ]
    }
   ],
   "source": [
    "x = range(5,10) # it starts from 5 and ends at 9 because it wont take 10 in its output.\n",
    "for i in x:\n",
    "    print(i)"
   ]
  },
  {
   "cell_type": "code",
   "execution_count": 30,
   "id": "b05e58c6",
   "metadata": {},
   "outputs": [
    {
     "name": "stdout",
     "output_type": "stream",
     "text": [
      "0\n",
      "2\n",
      "4\n",
      "6\n",
      "8\n"
     ]
    }
   ],
   "source": [
    "x = range(0,10,2) # it starts from 0 to 9 but takes a leap of 2 steps.\n",
    "for i in x:\n",
    "    print(i)"
   ]
  },
  {
   "cell_type": "code",
   "execution_count": null,
   "id": "1b5aa4d2",
   "metadata": {},
   "outputs": [],
   "source": [
    "12. Write a short program that prints the numbers 1 to 10 using a for loop. \n",
    "Then write an equivalent program that prints the numbers 1 to 10 using a while loop.\n",
    "\n"
   ]
  },
  {
   "cell_type": "code",
   "execution_count": 31,
   "id": "d27fe9f0",
   "metadata": {},
   "outputs": [
    {
     "name": "stdout",
     "output_type": "stream",
     "text": [
      "1\n",
      "2\n",
      "3\n",
      "4\n",
      "5\n",
      "6\n",
      "7\n",
      "8\n",
      "9\n",
      "10\n"
     ]
    }
   ],
   "source": [
    "for i in range(1 , 11):\n",
    "    print(i)"
   ]
  },
  {
   "cell_type": "code",
   "execution_count": 41,
   "id": "7303dfb7",
   "metadata": {},
   "outputs": [
    {
     "name": "stdout",
     "output_type": "stream",
     "text": [
      "1\n",
      "2\n",
      "3\n",
      "4\n",
      "5\n",
      "6\n",
      "7\n",
      "8\n",
      "9\n",
      "10\n"
     ]
    }
   ],
   "source": [
    "i = 1\n",
    "while i <= 10:\n",
    "    print(i)\n",
    "    i= i+1\n",
    "    "
   ]
  },
  {
   "cell_type": "code",
   "execution_count": null,
   "id": "c98faf5e",
   "metadata": {},
   "outputs": [],
   "source": [
    "13. If you had a function named bacon() inside a module named spam, how would you call it after importing spam?\n",
    "\n",
    "Sol. This function can be called with spam.bacon()"
   ]
  },
  {
   "cell_type": "code",
   "execution_count": null,
   "id": "9549db85",
   "metadata": {},
   "outputs": [],
   "source": []
  }
 ],
 "metadata": {
  "kernelspec": {
   "display_name": "Python 3 (ipykernel)",
   "language": "python",
   "name": "python3"
  },
  "language_info": {
   "codemirror_mode": {
    "name": "ipython",
    "version": 3
   },
   "file_extension": ".py",
   "mimetype": "text/x-python",
   "name": "python",
   "nbconvert_exporter": "python",
   "pygments_lexer": "ipython3",
   "version": "3.9.12"
  }
 },
 "nbformat": 4,
 "nbformat_minor": 5
}
